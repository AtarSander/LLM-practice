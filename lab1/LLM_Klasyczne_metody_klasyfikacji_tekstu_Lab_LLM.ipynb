{
  "cells": [
    {
      "cell_type": "markdown",
      "metadata": {
        "id": "KD8xISdCAOKI"
      },
      "source": [
        "# LLM - Klasyczne metody klasyfikacji tekstu - LAB"
      ]
    },
    {
      "cell_type": "markdown",
      "metadata": {
        "id": "jWXHh8FRVHFQ"
      },
      "source": [
        "# Zadanie\n",
        "\n",
        "Zaadaptuj kod z notatnika *LLM - Klasyczne metody klasyfikacji tekstu - Omówienie* do problemu klasyfikacji liczby gwiazdek dla opinii z serwisu Yelp.\n",
        "Możesz przygotować pętlę treningową albo w czystym PyTorchu, albo z wykorzystaniem biblioteki PyTorch Lightning."
      ]
    },
    {
      "cell_type": "markdown",
      "metadata": {
        "id": "9-z5reyCUVLN"
      },
      "source": [
        "* Wykorzystaj zbiór `Yelp/yelp_review_full` ([link](https://huggingface.co/datasets/Yelp/yelp_review_full)) zawierający opinie z serwisu Yelp (kolumna: `text`) i etykietę (kolumna: `label`) o wartościach $0,1,2,3,4$ określającą liczbę gwiazdek przyznaną przez użytkownika (a ściślej, liczbę gwiazdek minus jeden). Ponieważ mamy pięć klas, ostatnia warstwa liniowa w sieci neuronowej musi zwracać pięć wartości.\n",
        "    * Zgodnie z dobrą praktyką z części treningowej wydziel dodatkową część walidacyjną.\n",
        "    * (opcjonalnie) Ogranicz rozmiar każdej części zbioru danych (treningowej, walidacyjnej i testowej). Część treningowa nie powinna zawierać więcej niż 100k elementów.\n",
        "* Do ekstrakcji cech z tekstu wykorzystaj **metodę TF-IDF** (*term frequency-inverse document frequency*) opartą o podejście typu worek słów (*bag-of-words*). Zastosuj funkcję `TfidfVectorizer` z biblioteki `scikit-learn`.\n"
      ]
    },
    {
      "cell_type": "markdown",
      "metadata": {
        "id": "GLrfWuO0rgos"
      },
      "source": [
        "## Punkty do wykonania"
      ]
    },
    {
      "cell_type": "markdown",
      "metadata": {
        "id": "04B0VM6uIZ64"
      },
      "source": [
        "1.   Napisz funkcję znajdującą i wyświetlającą $k$ elementów zbioru testowego dla których model najbardziej się myli, czyli predykuje najmniejsze prawdopodobieństwa prawdziwej klasy. Softmax jest funkcją ściśle rosnącą, więc wystarczy znaleźć elementy z najmniejszą wartością nieznormalizowanego wyjścia z sieci (logita) dla prawdziwej klasy.\n",
        "2.   Zbadaj wpływ wybranych parametrów funkcji ekstrakcji cech z tekstu `TfidfVectorizer` na skuteczność wytrenowanego modelu. Uruchom kilka eksperymentów z różnymi wartościami parametrów i porównaj dokładność wytrenowanego modelu na zbiorze walidacyjnym.\n",
        "3.   Zbadaj wpływ wybranych hiperparametrów modelu (np. liczba warstw liniowych modelu, rozmiary warstw) i procesu uczenia (np. początkowa wartość stopy uczenia, liczba epok, typ i parametry planisty stopy uczenia, typ i parametry optymalizatora) na skuteczność wytrenowanego modelu. Uruchom kilka eksperymentów z różnymi wartościami hiperparametrów i porównaj dokładność wytrenowanego modelu na zbiorze walidacyjnym. Następnie wykonaj finalną ewaluację najlepszego modelu na zbiorze testowym.\n"
      ]
    },
    {
      "cell_type": "markdown",
      "metadata": {
        "id": "yz1EcTToUUIx"
      },
      "source": [
        "Import bibliotek."
      ]
    },
    {
      "cell_type": "code",
      "execution_count": 1,
      "metadata": {
        "id": "zdGVyE77UU7l"
      },
      "outputs": [
        {
          "name": "stdout",
          "output_type": "stream",
          "text": [
            "Wersja biblioteki PyTorch: 2.9.0+cu128\n"
          ]
        },
        {
          "name": "stderr",
          "output_type": "stream",
          "text": [
            "/home/atarsander/Programs/anaconda3/envs/LLM/lib/python3.12/site-packages/requests/__init__.py:86: RequestsDependencyWarning: Unable to find acceptable character detection dependency (chardet or charset_normalizer).\n",
            "  warnings.warn(\n",
            "/home/atarsander/Programs/anaconda3/envs/LLM/lib/python3.12/site-packages/tqdm/auto.py:21: TqdmWarning: IProgress not found. Please update jupyter and ipywidgets. See https://ipywidgets.readthedocs.io/en/stable/user_install.html\n",
            "  from .autonotebook import tqdm as notebook_tqdm\n"
          ]
        }
      ],
      "source": [
        "import torch\n",
        "import torch.nn as nn\n",
        "import numpy as np\n",
        "import heapq\n",
        "import pandas as pd\n",
        "import matplotlib.pyplot as plt\n",
        "from itertools import product\n",
        "from torch.utils.data import DataLoader, TensorDataset\n",
        "from sklearn.feature_extraction.text import TfidfVectorizer\n",
        "from sklearn.decomposition import TruncatedSVD\n",
        "from datasets import load_dataset\n",
        "from sklearn.metrics import (\n",
        "    f1_score,\n",
        "    recall_score,\n",
        "    accuracy_score,\n",
        "    precision_score,\n",
        "    confusion_matrix,\n",
        ")\n",
        "\n",
        "print(f\"Wersja biblioteki PyTorch: {torch.__version__}\")"
      ]
    },
    {
      "cell_type": "markdown",
      "metadata": {
        "id": "Jzr77SCyIZmZ"
      },
      "source": [
        "Sprawdzenie dostępności GPU."
      ]
    },
    {
      "cell_type": "code",
      "execution_count": 2,
      "metadata": {
        "id": "7ZMytRxqU_6d"
      },
      "outputs": [
        {
          "name": "stdout",
          "output_type": "stream",
          "text": [
            "Dostępność GPU: True\n",
            "Typ GPU: NVIDIA GeForce RTX 5070 Ti\n"
          ]
        }
      ],
      "source": [
        "print(f\"Dostępność GPU: {torch.cuda.is_available()}\")\n",
        "print(f\"Typ GPU: {torch.cuda.get_device_name(0)}\")"
      ]
    },
    {
      "cell_type": "markdown",
      "metadata": {
        "id": "oANcfdIYW-P3"
      },
      "source": []
    },
    {
      "cell_type": "code",
      "execution_count": 3,
      "metadata": {
        "id": "9Xfy2mWEW-Vi"
      },
      "outputs": [
        {
          "name": "stderr",
          "output_type": "stream",
          "text": [
            "/home/atarsander/Programs/anaconda3/envs/LLM/lib/python3.12/site-packages/pydantic/_internal/_generate_schema.py:2249: UnsupportedFieldAttributeWarning: The 'repr' attribute with value False was provided to the `Field()` function, which has no effect in the context it was used. 'repr' is field-specific metadata, and can only be attached to a model field using `Annotated` metadata or by assignment. This may have happened because an `Annotated` type alias using the `type` statement was used, or if the `Field()` function was attached to a single member of a union type.\n",
            "  warnings.warn(\n",
            "/home/atarsander/Programs/anaconda3/envs/LLM/lib/python3.12/site-packages/pydantic/_internal/_generate_schema.py:2249: UnsupportedFieldAttributeWarning: The 'frozen' attribute with value True was provided to the `Field()` function, which has no effect in the context it was used. 'frozen' is field-specific metadata, and can only be attached to a model field using `Annotated` metadata or by assignment. This may have happened because an `Annotated` type alias using the `type` statement was used, or if the `Field()` function was attached to a single member of a union type.\n",
            "  warnings.warn(\n",
            "\u001b[34m\u001b[1mwandb\u001b[0m: \u001b[33mWARNING\u001b[0m If you're specifying your api key in code, ensure this code is not shared publicly.\n",
            "\u001b[34m\u001b[1mwandb\u001b[0m: \u001b[33mWARNING\u001b[0m Consider setting the WANDB_API_KEY environment variable, or running `wandb login` from the command line.\n",
            "\u001b[34m\u001b[1mwandb\u001b[0m: Appending key for api.wandb.ai to your netrc file: /home/atarsander/.netrc\n",
            "\u001b[34m\u001b[1mwandb\u001b[0m: Currently logged in as: \u001b[33matarsander\u001b[0m (\u001b[33matarsander-warsaw-university-of-technology\u001b[0m) to \u001b[32mhttps://api.wandb.ai\u001b[0m. Use \u001b[1m`wandb login --relogin`\u001b[0m to force relogin\n"
          ]
        },
        {
          "data": {
            "text/plain": [
              "True"
            ]
          },
          "execution_count": 3,
          "metadata": {},
          "output_type": "execute_result"
        }
      ],
      "source": [
        "import wandb\n",
        "\n",
        "# Logowanie do serwisu Weights&Biases monitorującego przebieg eksperymentów\n",
        "wandb.login(key=\"b18357d829db3e608dce0a0b0637312f25532350\")"
      ]
    },
    {
      "cell_type": "markdown",
      "metadata": {
        "id": "sjIAG6sjW8Dw"
      },
      "source": [
        "# Rozwiązanie"
      ]
    },
    {
      "cell_type": "code",
      "execution_count": 4,
      "metadata": {},
      "outputs": [],
      "source": [
        "DEVICE = \"cuda\" if torch.cuda.is_available() else \"cpu\"\n",
        "BATCH_SIZE = 128\n",
        "NUM_WORKERS = 8"
      ]
    },
    {
      "cell_type": "code",
      "execution_count": 5,
      "metadata": {},
      "outputs": [],
      "source": [
        "dataset_train = load_dataset(\"Yelp/yelp_review_full\", split=\"train[:100000]\")\n",
        "dataset_test = load_dataset(\"Yelp/yelp_review_full\", split=\"test[:20000]\")"
      ]
    },
    {
      "cell_type": "code",
      "execution_count": 6,
      "metadata": {},
      "outputs": [],
      "source": [
        "ds = dataset_train.train_test_split(test_size=0.15)\n",
        "dataset_train, dataset_val = ds[\"train\"], ds[\"test\"]"
      ]
    },
    {
      "cell_type": "code",
      "execution_count": 7,
      "metadata": {},
      "outputs": [
        {
          "name": "stdout",
          "output_type": "stream",
          "text": [
            "Train dataset size: 85000\n",
            "Validation dataset size: 15000\n",
            "Test dataset size: 20000\n"
          ]
        }
      ],
      "source": [
        "print(f\"Train dataset size: {len(dataset_train)}\")\n",
        "print(f\"Validation dataset size: {len(dataset_val)}\")\n",
        "print(f\"Test dataset size: {len(dataset_test)}\")"
      ]
    },
    {
      "cell_type": "code",
      "execution_count": 8,
      "metadata": {
        "id": "mqDLYFafW9yC"
      },
      "outputs": [],
      "source": [
        "class MLP(nn.Module):\n",
        "    def __init__(self, layers):\n",
        "        super().__init__()\n",
        "        self.layers = nn.ModuleList()\n",
        "        for layer in layers:\n",
        "            if \"dropout\" in layer:\n",
        "                self.layers.append(nn.Dropout(layer[\"dropout\"]))\n",
        "            if \"linear\" in layer:\n",
        "                self.layers.append(nn.Linear(*layer[\"linear\"]))\n",
        "            if \"batch_norm\" in layer:\n",
        "                self.layers.append(nn.BatchNorm1d(layer[\"batch_norm\"]))\n",
        "            if \"relu\" in layer:\n",
        "                self.layers.append(nn.ReLU())\n",
        "\n",
        "    def forward(self, x):\n",
        "        for layer in self.layers:\n",
        "            x = layer(x)\n",
        "        return x"
      ]
    },
    {
      "cell_type": "markdown",
      "metadata": {},
      "source": [
        "Z powodu rzadkości oraz bardzo dużego wymiaru macierzy TF-IDF, zastosuję SVD, aby zredukować liczbę cech i wydobyć najważniejsze ukryte zależności semantyczne między słowami. Pozwoli to uzyskać bardziej informacyjne reprezentacje tekstu dla downstreamowych modeli MLP."
      ]
    },
    {
      "cell_type": "code",
      "execution_count": 9,
      "metadata": {},
      "outputs": [],
      "source": [
        "def make_loaders_from_text(vectorizer_params, svd_components, batch_size, num_workers=2, pin_memory=True):\n",
        "    vectorizer = TfidfVectorizer(**vectorizer_params)\n",
        "    X_train_tf = vectorizer.fit_transform(dataset_train[\"text\"])\n",
        "    X_val_tf   = vectorizer.transform(dataset_val[\"text\"])\n",
        "    X_test_tf  = vectorizer.transform(dataset_test[\"text\"])\n",
        "\n",
        "    svd = TruncatedSVD(n_components=svd_components)\n",
        "    X_train = svd.fit_transform(X_train_tf)\n",
        "    X_val   = svd.transform(X_val_tf)\n",
        "    X_test  = svd.transform(X_test_tf)\n",
        "\n",
        "    y_train = np.asarray(dataset_train[\"label\"])\n",
        "    y_val   = np.asarray(dataset_val[\"label\"])\n",
        "    y_test  = np.asarray(dataset_test[\"label\"])\n",
        "\n",
        "    train_ds = TensorDataset(torch.tensor(X_train), torch.tensor(y_train))\n",
        "    val_ds   = TensorDataset(torch.tensor(X_val),   torch.tensor(y_val))\n",
        "    test_ds  = TensorDataset(torch.tensor(X_test),  torch.tensor(y_test))\n",
        "\n",
        "    train_loader = DataLoader(train_ds, batch_size=batch_size, shuffle=True,  num_workers=num_workers, pin_memory=pin_memory)\n",
        "    val_loader   = DataLoader(val_ds,   batch_size=batch_size, shuffle=False, num_workers=num_workers, pin_memory=pin_memory)\n",
        "    test_loader  = DataLoader(test_ds,  batch_size=batch_size, shuffle=False, num_workers=num_workers, pin_memory=pin_memory)\n",
        "    return vectorizer, svd, (train_loader, val_loader, test_loader)"
      ]
    },
    {
      "cell_type": "code",
      "execution_count": 10,
      "metadata": {},
      "outputs": [],
      "source": [
        "INPUT_SIZE = 300\n",
        "vectorizer, svd, (train_loader, val_loader, test_loader) = make_loaders_from_text(\n",
        "    vectorizer_params={\n",
        "        \"max_features\": 30000,\n",
        "        \"min_df\": 2,\n",
        "        \"max_df\": 0.95,\n",
        "    },\n",
        "    svd_components=INPUT_SIZE,\n",
        "    batch_size=BATCH_SIZE,\n",
        "    num_workers=NUM_WORKERS,\n",
        "    pin_memory=True,\n",
        ")"
      ]
    },
    {
      "cell_type": "code",
      "execution_count": 11,
      "metadata": {},
      "outputs": [
        {
          "data": {
            "text/plain": [
              "{0: 19457, 1: 17390, 2: 16811, 3: 16355, 4: 14987}"
            ]
          },
          "execution_count": 11,
          "metadata": {},
          "output_type": "execute_result"
        }
      ],
      "source": [
        "values, counts = np.unique(dataset_train[\"label\"], return_counts=True)\n",
        "label_counts = dict(zip(values, counts))\n",
        "label_counts"
      ]
    },
    {
      "cell_type": "markdown",
      "metadata": {},
      "source": [
        "Klasy nie są bardzo niezbalansowane, ale żeby wziąć pod uwagę różnice w ich liczności przy ewaluacji modelu będę się kierować metryką **f1_score**."
      ]
    },
    {
      "cell_type": "code",
      "execution_count": 12,
      "metadata": {},
      "outputs": [],
      "source": [
        "def setup_wandb(project, group, run_name, config):\n",
        "    run = wandb.init(\n",
        "        project=project,\n",
        "        group=group,\n",
        "        name=run_name,\n",
        "        config=config,\n",
        "        job_type=\"train\",\n",
        "        reinit=\"finish_previous\",\n",
        "    )\n",
        "    wandb.define_metric(\"epoch\")\n",
        "    wandb.define_metric(\"train/*\", step_metric=\"epoch\")\n",
        "    wandb.define_metric(\"val/*\", step_metric=\"epoch\")\n",
        "    return run"
      ]
    },
    {
      "cell_type": "code",
      "execution_count": 13,
      "metadata": {},
      "outputs": [],
      "source": [
        "def evaluate(model, loader, device):\n",
        "    model.eval()\n",
        "    y_pred = []\n",
        "    y_true = []\n",
        "    with torch.inference_mode():\n",
        "        for X, y in loader:\n",
        "            X, y = X.to(dtype=torch.float32, device=device), y.to(device)\n",
        "            logits = model(X)\n",
        "            y_pred.extend(logits.argmax(dim=1).detach().cpu().numpy().tolist())\n",
        "            y_true.extend(y.detach().cpu().numpy().tolist())\n",
        "    y_true = np.array(y_true)\n",
        "    y_pred = np.array(y_pred)\n",
        "    return {\n",
        "        \"accuracy\": float(accuracy_score(y_true, y_pred)),\n",
        "        \"precision_macro\": float(precision_score(y_true, y_pred, average=\"macro\")),\n",
        "        \"recall_macro\": float(recall_score(y_true, y_pred, average=\"macro\")),\n",
        "        \"confusion_matrix\": confusion_matrix(y_true, y_pred),\n",
        "        \"f1_score\": float(f1_score(y_true, y_pred, average=\"macro\")),\n",
        "        \"y_true\": y_true,\n",
        "        \"y_pred\": y_pred,\n",
        "    }"
      ]
    },
    {
      "cell_type": "code",
      "execution_count": 14,
      "metadata": {},
      "outputs": [],
      "source": [
        "def train(\n",
        "    train_loader,\n",
        "    val_loader,\n",
        "    model,\n",
        "    epochs,\n",
        "    optim_type,\n",
        "    optim_params,\n",
        "    criterion,\n",
        "    device,\n",
        "    project,\n",
        "    group,\n",
        "    run_name,\n",
        "    config,\n",
        "):\n",
        "    run = setup_wandb(project, group, run_name, config)\n",
        "    model = model.to(device)\n",
        "    optimizer = optim_type(model.parameters(), *optim_params)\n",
        "    losses = []\n",
        "    wandb.watch(model, log=\"gradients\", log_freq=200)\n",
        "    for epoch in range(epochs):\n",
        "        model.train()\n",
        "        avg_loss = 0\n",
        "        total_count = 0\n",
        "        for X, y in train_loader:\n",
        "            X, y = X.to(dtype=torch.float32, device=device), y.to(device)\n",
        "            optimizer.zero_grad()\n",
        "            logits = model(X)\n",
        "            loss = criterion(logits, y)\n",
        "            loss.backward()\n",
        "            optimizer.step()\n",
        "            avg_loss += y.size(0) * loss.item()\n",
        "            total_count += y.size(0)\n",
        "        losses.append(avg_loss / total_count)\n",
        "\n",
        "        val_metrics = evaluate(model, val_loader, device)\n",
        "        wandb.log(\n",
        "            {\n",
        "                \"epoch\": epoch,\n",
        "                \"train/loss\": avg_loss / total_count,\n",
        "                \"val/accuracy\": val_metrics[\"accuracy\"],\n",
        "                \"val/precision\": val_metrics[\"precision_macro\"],\n",
        "                \"val/recall\": val_metrics[\"recall_macro\"],\n",
        "                \"val/f1_score\": val_metrics[\"f1_score\"],\n",
        "            }\n",
        "        )\n",
        "        try:\n",
        "            wandb.log(\n",
        "                {\n",
        "                    \"val/confusion_matrix\": wandb.plot.confusion_matrix(\n",
        "                        preds=val_metrics[\"y_pred\"].astype(int).tolist(),\n",
        "                        y_true=val_metrics[\"y_true\"].astype(int).tolist(),\n",
        "                    )\n",
        "                }\n",
        "            )\n",
        "        except Exception:\n",
        "            ...\n",
        "        run.summary[\"train/losses\"] = losses\n",
        "        run.summary[\"val/accuracy\"] = val_metrics[\"accuracy\"]\n",
        "        run.summary[\"val/f1_score\"] = val_metrics[\"f1_score\"]\n",
        "\n",
        "    return losses, run"
      ]
    },
    {
      "cell_type": "code",
      "execution_count": 15,
      "metadata": {},
      "outputs": [],
      "source": [
        "def count_params(model):\n",
        "    return sum(p.numel() for p in model.parameters())"
      ]
    },
    {
      "cell_type": "code",
      "execution_count": 17,
      "metadata": {},
      "outputs": [],
      "source": [
        "def tune_architecture(\n",
        "    model_class,\n",
        "    train_loader,\n",
        "    val_loader,\n",
        "    architectures,\n",
        "    training_setup,\n",
        "    device,\n",
        "    project_name=\"LLM_lab1\",\n",
        "    group_name=\"exp_01\",\n",
        "    best_metric=\"f1_score\",\n",
        "):\n",
        "    results = []\n",
        "    best = {}\n",
        "    best_metric_value = -1\n",
        "    for i, architecture in enumerate(architectures):\n",
        "        model = model_class(architecture).to(device)\n",
        "        run_name = f\"Architecture class: {getattr(model_class, '__name__', None)} | setup: {str(i)}\"\n",
        "        print(f\"[W&B] Training model {i}\")\n",
        "        config = dict(\n",
        "            epochs=training_setup[\"epochs\"],\n",
        "            optim_type=training_setup[\"optim_type\"],\n",
        "            optim_params=training_setup[\"optim_params\"],\n",
        "            criterion=training_setup[\"criterion\"],\n",
        "            batch_size=getattr(train_loader, \"batch_size\", None),\n",
        "            device=str(device),\n",
        "        )\n",
        "        loss, run = train(\n",
        "            train_loader,\n",
        "            val_loader,\n",
        "            model,\n",
        "            training_setup[\"epochs\"],\n",
        "            training_setup[\"optim_type\"],\n",
        "            training_setup[\"optim_params\"],\n",
        "            training_setup[\"criterion\"],\n",
        "            device=device,\n",
        "            project=project_name,\n",
        "            group=group_name,\n",
        "            run_name=run_name,\n",
        "            config=config,\n",
        "        )\n",
        "        print(\"[W&B] Training done\")\n",
        "\n",
        "        train_metrics = evaluate(model, train_loader, device)\n",
        "        val_metrics = evaluate(model, val_loader, device)\n",
        "\n",
        "        wandb.log(\n",
        "            {\n",
        "                \"train/accuracy\": train_metrics[\"accuracy\"],\n",
        "                \"train/precision_macro\": train_metrics[\"precision_macro\"],\n",
        "                \"train/recall_macro\": train_metrics[\"recall_macro\"],\n",
        "                \"train/f1_score\": train_metrics[\"f1_score\"],\n",
        "            }\n",
        "        )\n",
        "        run.summary[\"train/accuracy\"] = train_metrics[\"accuracy\"]\n",
        "        run.summary[\"train/f1_score\"] = train_metrics[\"f1_score\"]\n",
        "\n",
        "        record = {\n",
        "            \"train/loss\": loss,\n",
        "            \"train\": train_metrics,\n",
        "            \"val\": val_metrics,\n",
        "        }\n",
        "\n",
        "        results.append(record)\n",
        "\n",
        "        if val_metrics[best_metric] > best_metric_value:\n",
        "            best = {run_name: val_metrics}\n",
        "            best_metric_value = val_metrics[best_metric]\n",
        "        wandb.finish()\n",
        "    return results, best"
      ]
    },
    {
      "cell_type": "markdown",
      "metadata": {},
      "source": [
        "## 3. Porównanie różnych architektur"
      ]
    },
    {
      "cell_type": "code",
      "execution_count": 18,
      "metadata": {},
      "outputs": [],
      "source": [
        "architectures = [\n",
        "    [\n",
        "        {\"linear\": (INPUT_SIZE, 256), \"relu\": True},\n",
        "        {\"linear\": (256, 5)},\n",
        "    ],\n",
        "    [\n",
        "        {\"linear\": (INPUT_SIZE, 128), \"relu\": True},\n",
        "        {\"linear\": (128, 64), \"relu\": True},\n",
        "        {\"linear\": (64, 5)},\n",
        "    ],\n",
        "    [\n",
        "        {\"linear\": (INPUT_SIZE, 64), \"relu\": True},\n",
        "        {\"linear\": (64, 32), \"relu\": True},\n",
        "        {\"linear\": (32, 5)},\n",
        "    ],\n",
        "    [\n",
        "        {\"linear\": (INPUT_SIZE, 256), \"relu\": True},\n",
        "        {\"linear\": (256, 128), \"relu\": True},\n",
        "        {\"linear\": (128, 64), \"relu\": True},\n",
        "        {\"linear\": (64, 5)},\n",
        "    ],\n",
        "    [\n",
        "        {\"linear\": (INPUT_SIZE, 128), \"relu\": True},\n",
        "        {\"dropout\": 0.3, \"linear\": (128, 64), \"relu\": True},\n",
        "        {\"dropout\": 0.3, \"linear\": (64, 5)},\n",
        "    ],\n",
        "    [\n",
        "        {\"linear\": (INPUT_SIZE, 64), \"relu\": True},\n",
        "        {\"dropout\": 0.3, \"linear\": (64, 32), \"relu\": True},\n",
        "        {\"dropout\": 0.3, \"linear\": (32, 5)},\n",
        "    ],\n",
        "    [\n",
        "        {\"linear\": (INPUT_SIZE, 768), \"batch_norm\": 768, \"relu\": True},\n",
        "        {\"dropout\": 0.2, \"linear\": (768, 384), \"batch_norm\": 384, \"relu\": True},\n",
        "        {\"dropout\": 0.2, \"linear\": (384, 128), \"batch_norm\": 128, \"relu\": True},\n",
        "        {\"dropout\": 0.3, \"linear\": (128, 5)},\n",
        "    ],\n",
        "    [\n",
        "        {\"linear\": (INPUT_SIZE, 512), \"batch_norm\": 512, \"relu\": True},\n",
        "        {\"dropout\": 0.2, \"linear\": (512, 5)},\n",
        "    ],\n",
        "    [\n",
        "        {\"linear\": (INPUT_SIZE, 1024), \"relu\": True},\n",
        "        {\"dropout\": 0.1, \"linear\": (1024, 5)},\n",
        "    ],\n",
        "    [\n",
        "        {\"linear\": (INPUT_SIZE, 512), \"batch_norm\": 512, \"relu\": True},\n",
        "        {\"dropout\": 0.5, \"linear\": (512, 256), \"batch_norm\": 256, \"relu\": True},\n",
        "        {\"dropout\": 0.5, \"linear\": (256, 5)},\n",
        "    ],\n",
        "]"
      ]
    },
    {
      "cell_type": "code",
      "execution_count": 19,
      "metadata": {},
      "outputs": [],
      "source": [
        "training_setup = {\n",
        "    \"epochs\": 25,\n",
        "    \"optim_type\": torch.optim.Adam,\n",
        "    \"optim_params\": [3e-4],\n",
        "    \"criterion\": nn.CrossEntropyLoss(),\n",
        "}"
      ]
    },
    {
      "cell_type": "code",
      "execution_count": 20,
      "metadata": {},
      "outputs": [
        {
          "name": "stdout",
          "output_type": "stream",
          "text": [
            "[W&B] Training model 0\n"
          ]
        },
        {
          "data": {
            "text/html": [],
            "text/plain": [
              "<IPython.core.display.HTML object>"
            ]
          },
          "metadata": {},
          "output_type": "display_data"
        },
        {
          "data": {
            "text/html": [
              "Tracking run with wandb version 0.22.2"
            ],
            "text/plain": [
              "<IPython.core.display.HTML object>"
            ]
          },
          "metadata": {},
          "output_type": "display_data"
        },
        {
          "data": {
            "text/html": [
              "Run data is saved locally in <code>/home/atarsander/University/LLM/lab1/wandb/run-20251028_131237-2kwqyw4j</code>"
            ],
            "text/plain": [
              "<IPython.core.display.HTML object>"
            ]
          },
          "metadata": {},
          "output_type": "display_data"
        },
        {
          "data": {
            "text/html": [
              "Syncing run <strong><a href='https://wandb.ai/atarsander-warsaw-university-of-technology/LLM_lab1/runs/2kwqyw4j' target=\"_blank\">Architecture class: MLP | setup: 0</a></strong> to <a href='https://wandb.ai/atarsander-warsaw-university-of-technology/LLM_lab1' target=\"_blank\">Weights & Biases</a> (<a href='https://wandb.me/developer-guide' target=\"_blank\">docs</a>)<br>"
            ],
            "text/plain": [
              "<IPython.core.display.HTML object>"
            ]
          },
          "metadata": {},
          "output_type": "display_data"
        },
        {
          "data": {
            "text/html": [
              " View project at <a href='https://wandb.ai/atarsander-warsaw-university-of-technology/LLM_lab1' target=\"_blank\">https://wandb.ai/atarsander-warsaw-university-of-technology/LLM_lab1</a>"
            ],
            "text/plain": [
              "<IPython.core.display.HTML object>"
            ]
          },
          "metadata": {},
          "output_type": "display_data"
        },
        {
          "data": {
            "text/html": [
              " View run at <a href='https://wandb.ai/atarsander-warsaw-university-of-technology/LLM_lab1/runs/2kwqyw4j' target=\"_blank\">https://wandb.ai/atarsander-warsaw-university-of-technology/LLM_lab1/runs/2kwqyw4j</a>"
            ],
            "text/plain": [
              "<IPython.core.display.HTML object>"
            ]
          },
          "metadata": {},
          "output_type": "display_data"
        },
        {
          "name": "stdout",
          "output_type": "stream",
          "text": [
            "[W&B] Training done\n"
          ]
        },
        {
          "data": {
            "text/html": [],
            "text/plain": [
              "<IPython.core.display.HTML object>"
            ]
          },
          "metadata": {},
          "output_type": "display_data"
        },
        {
          "data": {
            "text/html": [
              "<br>    <style><br>        .wandb-row {<br>            display: flex;<br>            flex-direction: row;<br>            flex-wrap: wrap;<br>            justify-content: flex-start;<br>            width: 100%;<br>        }<br>        .wandb-col {<br>            display: flex;<br>            flex-direction: column;<br>            flex-basis: 100%;<br>            flex: 1;<br>            padding: 10px;<br>        }<br>    </style><br><div class=\"wandb-row\"><div class=\"wandb-col\"><h3>Run history:</h3><br/><table class=\"wandb\"><tr><td>epoch</td><td>▁▁▁▁▂▂▂▂▂▃▃▃▃▃▄▄▄▄▅▅▅▅▅▅▅▆▆▆▆▆▇▇▇▇▇▇████</td></tr><tr><td>train/accuracy</td><td>▁</td></tr><tr><td>train/f1_score</td><td>▁</td></tr><tr><td>train/loss</td><td>█▃▂▂▂▂▂▂▂▂▂▂▁▁▁▁▁▁▁▁▁▁▁▁▁</td></tr><tr><td>train/precision_macro</td><td>▁</td></tr><tr><td>train/recall_macro</td><td>▁</td></tr><tr><td>val/accuracy</td><td>▁▄▆▆▇█▇█▇▆▇▇▇▇█▅▆▆▆▇▇▆▇▇█</td></tr><tr><td>val/f1_score</td><td>▁▆▇▇▇█▇▇▆▆▇▆▆▇▇▅▆▅▆▇▇▆▇▇▇</td></tr><tr><td>val/precision</td><td>▁▅▇▇▇█▇▇▆▆▇▆▆▇█▄▆▄▆▆▆▆▇█▇</td></tr><tr><td>val/recall</td><td>▁▅▆▆▇█▇▇▇▆▇▇▇▇▇▆▆▅▆▇▇▆▇▇▇</td></tr></table><br/></div><div class=\"wandb-col\"><h3>Run summary:</h3><br/><table class=\"wandb\"><tr><td>epoch</td><td>24</td></tr><tr><td>train/accuracy</td><td>0.59387</td></tr><tr><td>train/f1_score</td><td>0.58657</td></tr><tr><td>train/loss</td><td>0.95532</td></tr><tr><td>train/precision_macro</td><td>0.58624</td></tr><tr><td>train/recall_macro</td><td>0.58945</td></tr><tr><td>val/accuracy</td><td>0.569</td></tr><tr><td>val/f1_score</td><td>0.55981</td></tr><tr><td>val/precision</td><td>0.55945</td></tr><tr><td>val/recall</td><td>0.56308</td></tr></table><br/></div></div>"
            ],
            "text/plain": [
              "<IPython.core.display.HTML object>"
            ]
          },
          "metadata": {},
          "output_type": "display_data"
        },
        {
          "data": {
            "text/html": [
              " View run <strong style=\"color:#cdcd00\">Architecture class: MLP | setup: 0</strong> at: <a href='https://wandb.ai/atarsander-warsaw-university-of-technology/LLM_lab1/runs/2kwqyw4j' target=\"_blank\">https://wandb.ai/atarsander-warsaw-university-of-technology/LLM_lab1/runs/2kwqyw4j</a><br> View project at: <a href='https://wandb.ai/atarsander-warsaw-university-of-technology/LLM_lab1' target=\"_blank\">https://wandb.ai/atarsander-warsaw-university-of-technology/LLM_lab1</a><br>Synced 5 W&B file(s), 25 media file(s), 50 artifact file(s) and 0 other file(s)"
            ],
            "text/plain": [
              "<IPython.core.display.HTML object>"
            ]
          },
          "metadata": {},
          "output_type": "display_data"
        },
        {
          "data": {
            "text/html": [
              "Find logs at: <code>./wandb/run-20251028_131237-2kwqyw4j/logs</code>"
            ],
            "text/plain": [
              "<IPython.core.display.HTML object>"
            ]
          },
          "metadata": {},
          "output_type": "display_data"
        },
        {
          "name": "stdout",
          "output_type": "stream",
          "text": [
            "[W&B] Training model 1\n"
          ]
        },
        {
          "data": {
            "text/html": [],
            "text/plain": [
              "<IPython.core.display.HTML object>"
            ]
          },
          "metadata": {},
          "output_type": "display_data"
        },
        {
          "data": {
            "text/html": [
              "Tracking run with wandb version 0.22.2"
            ],
            "text/plain": [
              "<IPython.core.display.HTML object>"
            ]
          },
          "metadata": {},
          "output_type": "display_data"
        },
        {
          "data": {
            "text/html": [
              "Run data is saved locally in <code>/home/atarsander/University/LLM/lab1/wandb/run-20251028_131328-me3p78wp</code>"
            ],
            "text/plain": [
              "<IPython.core.display.HTML object>"
            ]
          },
          "metadata": {},
          "output_type": "display_data"
        },
        {
          "data": {
            "text/html": [
              "Syncing run <strong><a href='https://wandb.ai/atarsander-warsaw-university-of-technology/LLM_lab1/runs/me3p78wp' target=\"_blank\">Architecture class: MLP | setup: 1</a></strong> to <a href='https://wandb.ai/atarsander-warsaw-university-of-technology/LLM_lab1' target=\"_blank\">Weights & Biases</a> (<a href='https://wandb.me/developer-guide' target=\"_blank\">docs</a>)<br>"
            ],
            "text/plain": [
              "<IPython.core.display.HTML object>"
            ]
          },
          "metadata": {},
          "output_type": "display_data"
        },
        {
          "data": {
            "text/html": [
              " View project at <a href='https://wandb.ai/atarsander-warsaw-university-of-technology/LLM_lab1' target=\"_blank\">https://wandb.ai/atarsander-warsaw-university-of-technology/LLM_lab1</a>"
            ],
            "text/plain": [
              "<IPython.core.display.HTML object>"
            ]
          },
          "metadata": {},
          "output_type": "display_data"
        },
        {
          "data": {
            "text/html": [
              " View run at <a href='https://wandb.ai/atarsander-warsaw-university-of-technology/LLM_lab1/runs/me3p78wp' target=\"_blank\">https://wandb.ai/atarsander-warsaw-university-of-technology/LLM_lab1/runs/me3p78wp</a>"
            ],
            "text/plain": [
              "<IPython.core.display.HTML object>"
            ]
          },
          "metadata": {},
          "output_type": "display_data"
        },
        {
          "name": "stdout",
          "output_type": "stream",
          "text": [
            "[W&B] Training done\n"
          ]
        },
        {
          "data": {
            "text/html": [],
            "text/plain": [
              "<IPython.core.display.HTML object>"
            ]
          },
          "metadata": {},
          "output_type": "display_data"
        },
        {
          "data": {
            "text/html": [
              "<br>    <style><br>        .wandb-row {<br>            display: flex;<br>            flex-direction: row;<br>            flex-wrap: wrap;<br>            justify-content: flex-start;<br>            width: 100%;<br>        }<br>        .wandb-col {<br>            display: flex;<br>            flex-direction: column;<br>            flex-basis: 100%;<br>            flex: 1;<br>            padding: 10px;<br>        }<br>    </style><br><div class=\"wandb-row\"><div class=\"wandb-col\"><h3>Run history:</h3><br/><table class=\"wandb\"><tr><td>epoch</td><td>▁▁▁▁▂▂▂▂▂▂▃▃▃▃▃▄▄▄▄▄▅▅▅▅▅▅▆▆▆▆▆▇▇▇▇▇████</td></tr><tr><td>train/accuracy</td><td>▁</td></tr><tr><td>train/f1_score</td><td>▁</td></tr><tr><td>train/loss</td><td>█▃▃▃▃▃▂▂▂▂▂▂▂▂▂▂▂▂▂▁▁▁▁▁▁</td></tr><tr><td>train/precision_macro</td><td>▁</td></tr><tr><td>train/recall_macro</td><td>▁</td></tr><tr><td>val/accuracy</td><td>▁▄▄▄▅▅▆▆▆▆▆▆▇▆▆▆▇▇█▇█████</td></tr><tr><td>val/f1_score</td><td>▁▄▄▅▄▆▇▅▅▅▇▆▇▆▅▅▆▇█▇▇████</td></tr><tr><td>val/precision</td><td>▁▄▄▅▅▆▇▅▅▅▇▅█▆▅▅▆▇█▇▇█▇██</td></tr><tr><td>val/recall</td><td>▁▄▄▅▅▅▆▅▆▆▆▆▆▆▆▅▆▇█▇▇████</td></tr></table><br/></div><div class=\"wandb-col\"><h3>Run summary:</h3><br/><table class=\"wandb\"><tr><td>epoch</td><td>24</td></tr><tr><td>train/accuracy</td><td>0.60581</td></tr><tr><td>train/f1_score</td><td>0.59971</td></tr><tr><td>train/loss</td><td>0.92315</td></tr><tr><td>train/precision_macro</td><td>0.5989</td></tr><tr><td>train/recall_macro</td><td>0.6014</td></tr><tr><td>val/accuracy</td><td>0.57487</td></tr><tr><td>val/f1_score</td><td>0.56791</td></tr><tr><td>val/precision</td><td>0.56727</td></tr><tr><td>val/recall</td><td>0.56927</td></tr></table><br/></div></div>"
            ],
            "text/plain": [
              "<IPython.core.display.HTML object>"
            ]
          },
          "metadata": {},
          "output_type": "display_data"
        },
        {
          "data": {
            "text/html": [
              " View run <strong style=\"color:#cdcd00\">Architecture class: MLP | setup: 1</strong> at: <a href='https://wandb.ai/atarsander-warsaw-university-of-technology/LLM_lab1/runs/me3p78wp' target=\"_blank\">https://wandb.ai/atarsander-warsaw-university-of-technology/LLM_lab1/runs/me3p78wp</a><br> View project at: <a href='https://wandb.ai/atarsander-warsaw-university-of-technology/LLM_lab1' target=\"_blank\">https://wandb.ai/atarsander-warsaw-university-of-technology/LLM_lab1</a><br>Synced 5 W&B file(s), 25 media file(s), 50 artifact file(s) and 0 other file(s)"
            ],
            "text/plain": [
              "<IPython.core.display.HTML object>"
            ]
          },
          "metadata": {},
          "output_type": "display_data"
        },
        {
          "data": {
            "text/html": [
              "Find logs at: <code>./wandb/run-20251028_131328-me3p78wp/logs</code>"
            ],
            "text/plain": [
              "<IPython.core.display.HTML object>"
            ]
          },
          "metadata": {},
          "output_type": "display_data"
        },
        {
          "name": "stdout",
          "output_type": "stream",
          "text": [
            "[W&B] Training model 2\n"
          ]
        },
        {
          "data": {
            "text/html": [],
            "text/plain": [
              "<IPython.core.display.HTML object>"
            ]
          },
          "metadata": {},
          "output_type": "display_data"
        },
        {
          "data": {
            "text/html": [
              "Tracking run with wandb version 0.22.2"
            ],
            "text/plain": [
              "<IPython.core.display.HTML object>"
            ]
          },
          "metadata": {},
          "output_type": "display_data"
        },
        {
          "data": {
            "text/html": [
              "Run data is saved locally in <code>/home/atarsander/University/LLM/lab1/wandb/run-20251028_131419-dryt2yb5</code>"
            ],
            "text/plain": [
              "<IPython.core.display.HTML object>"
            ]
          },
          "metadata": {},
          "output_type": "display_data"
        },
        {
          "data": {
            "text/html": [
              "Syncing run <strong><a href='https://wandb.ai/atarsander-warsaw-university-of-technology/LLM_lab1/runs/dryt2yb5' target=\"_blank\">Architecture class: MLP | setup: 2</a></strong> to <a href='https://wandb.ai/atarsander-warsaw-university-of-technology/LLM_lab1' target=\"_blank\">Weights & Biases</a> (<a href='https://wandb.me/developer-guide' target=\"_blank\">docs</a>)<br>"
            ],
            "text/plain": [
              "<IPython.core.display.HTML object>"
            ]
          },
          "metadata": {},
          "output_type": "display_data"
        },
        {
          "data": {
            "text/html": [
              " View project at <a href='https://wandb.ai/atarsander-warsaw-university-of-technology/LLM_lab1' target=\"_blank\">https://wandb.ai/atarsander-warsaw-university-of-technology/LLM_lab1</a>"
            ],
            "text/plain": [
              "<IPython.core.display.HTML object>"
            ]
          },
          "metadata": {},
          "output_type": "display_data"
        },
        {
          "data": {
            "text/html": [
              " View run at <a href='https://wandb.ai/atarsander-warsaw-university-of-technology/LLM_lab1/runs/dryt2yb5' target=\"_blank\">https://wandb.ai/atarsander-warsaw-university-of-technology/LLM_lab1/runs/dryt2yb5</a>"
            ],
            "text/plain": [
              "<IPython.core.display.HTML object>"
            ]
          },
          "metadata": {},
          "output_type": "display_data"
        },
        {
          "name": "stdout",
          "output_type": "stream",
          "text": [
            "[W&B] Training done\n"
          ]
        },
        {
          "data": {
            "text/html": [],
            "text/plain": [
              "<IPython.core.display.HTML object>"
            ]
          },
          "metadata": {},
          "output_type": "display_data"
        },
        {
          "data": {
            "text/html": [
              "<br>    <style><br>        .wandb-row {<br>            display: flex;<br>            flex-direction: row;<br>            flex-wrap: wrap;<br>            justify-content: flex-start;<br>            width: 100%;<br>        }<br>        .wandb-col {<br>            display: flex;<br>            flex-direction: column;<br>            flex-basis: 100%;<br>            flex: 1;<br>            padding: 10px;<br>        }<br>    </style><br><div class=\"wandb-row\"><div class=\"wandb-col\"><h3>Run history:</h3><br/><table class=\"wandb\"><tr><td>epoch</td><td>▁▁▁▁▂▂▂▂▂▂▃▃▃▃▄▄▄▄▄▅▅▅▅▅▅▆▆▆▆▆▇▇▇▇▇▇▇███</td></tr><tr><td>train/accuracy</td><td>▁</td></tr><tr><td>train/f1_score</td><td>▁</td></tr><tr><td>train/loss</td><td>█▂▂▂▂▂▁▁▁▁▁▁▁▁▁▁▁▁▁▁▁▁▁▁▁</td></tr><tr><td>train/precision_macro</td><td>▁</td></tr><tr><td>train/recall_macro</td><td>▁</td></tr><tr><td>val/accuracy</td><td>▁▅▆▆▆▇▇▆▇▇▇▇▇█▇███▇██████</td></tr><tr><td>val/f1_score</td><td>▁▆▆▆▆▆▇▆▇▇▇▇▇▇▇▇██▇█▇█▇▇▇</td></tr><tr><td>val/precision</td><td>▁▆▆▅▅▆▇▅▇▇▆▆▆▇▇▇██▆▇▇█▇▆▇</td></tr><tr><td>val/recall</td><td>▁▆▆▆▆▇▇▇▇▇▇▇▇█▇███▇███▇▇▇</td></tr></table><br/></div><div class=\"wandb-col\"><h3>Run summary:</h3><br/><table class=\"wandb\"><tr><td>epoch</td><td>24</td></tr><tr><td>train/accuracy</td><td>0.57975</td></tr><tr><td>train/f1_score</td><td>0.57174</td></tr><tr><td>train/loss</td><td>0.97641</td></tr><tr><td>train/precision_macro</td><td>0.57133</td></tr><tr><td>train/recall_macro</td><td>0.57445</td></tr><tr><td>val/accuracy</td><td>0.56747</td></tr><tr><td>val/f1_score</td><td>0.55825</td></tr><tr><td>val/precision</td><td>0.55778</td></tr><tr><td>val/recall</td><td>0.56077</td></tr></table><br/></div></div>"
            ],
            "text/plain": [
              "<IPython.core.display.HTML object>"
            ]
          },
          "metadata": {},
          "output_type": "display_data"
        },
        {
          "data": {
            "text/html": [
              " View run <strong style=\"color:#cdcd00\">Architecture class: MLP | setup: 2</strong> at: <a href='https://wandb.ai/atarsander-warsaw-university-of-technology/LLM_lab1/runs/dryt2yb5' target=\"_blank\">https://wandb.ai/atarsander-warsaw-university-of-technology/LLM_lab1/runs/dryt2yb5</a><br> View project at: <a href='https://wandb.ai/atarsander-warsaw-university-of-technology/LLM_lab1' target=\"_blank\">https://wandb.ai/atarsander-warsaw-university-of-technology/LLM_lab1</a><br>Synced 5 W&B file(s), 25 media file(s), 50 artifact file(s) and 0 other file(s)"
            ],
            "text/plain": [
              "<IPython.core.display.HTML object>"
            ]
          },
          "metadata": {},
          "output_type": "display_data"
        },
        {
          "data": {
            "text/html": [
              "Find logs at: <code>./wandb/run-20251028_131419-dryt2yb5/logs</code>"
            ],
            "text/plain": [
              "<IPython.core.display.HTML object>"
            ]
          },
          "metadata": {},
          "output_type": "display_data"
        },
        {
          "name": "stdout",
          "output_type": "stream",
          "text": [
            "[W&B] Training model 3\n"
          ]
        },
        {
          "data": {
            "text/html": [],
            "text/plain": [
              "<IPython.core.display.HTML object>"
            ]
          },
          "metadata": {},
          "output_type": "display_data"
        },
        {
          "data": {
            "text/html": [
              "Tracking run with wandb version 0.22.2"
            ],
            "text/plain": [
              "<IPython.core.display.HTML object>"
            ]
          },
          "metadata": {},
          "output_type": "display_data"
        },
        {
          "data": {
            "text/html": [
              "Run data is saved locally in <code>/home/atarsander/University/LLM/lab1/wandb/run-20251028_131508-tiu063fk</code>"
            ],
            "text/plain": [
              "<IPython.core.display.HTML object>"
            ]
          },
          "metadata": {},
          "output_type": "display_data"
        },
        {
          "data": {
            "text/html": [
              "Syncing run <strong><a href='https://wandb.ai/atarsander-warsaw-university-of-technology/LLM_lab1/runs/tiu063fk' target=\"_blank\">Architecture class: MLP | setup: 3</a></strong> to <a href='https://wandb.ai/atarsander-warsaw-university-of-technology/LLM_lab1' target=\"_blank\">Weights & Biases</a> (<a href='https://wandb.me/developer-guide' target=\"_blank\">docs</a>)<br>"
            ],
            "text/plain": [
              "<IPython.core.display.HTML object>"
            ]
          },
          "metadata": {},
          "output_type": "display_data"
        },
        {
          "data": {
            "text/html": [
              " View project at <a href='https://wandb.ai/atarsander-warsaw-university-of-technology/LLM_lab1' target=\"_blank\">https://wandb.ai/atarsander-warsaw-university-of-technology/LLM_lab1</a>"
            ],
            "text/plain": [
              "<IPython.core.display.HTML object>"
            ]
          },
          "metadata": {},
          "output_type": "display_data"
        },
        {
          "data": {
            "text/html": [
              " View run at <a href='https://wandb.ai/atarsander-warsaw-university-of-technology/LLM_lab1/runs/tiu063fk' target=\"_blank\">https://wandb.ai/atarsander-warsaw-university-of-technology/LLM_lab1/runs/tiu063fk</a>"
            ],
            "text/plain": [
              "<IPython.core.display.HTML object>"
            ]
          },
          "metadata": {},
          "output_type": "display_data"
        },
        {
          "name": "stdout",
          "output_type": "stream",
          "text": [
            "[W&B] Training done\n"
          ]
        },
        {
          "data": {
            "text/html": [],
            "text/plain": [
              "<IPython.core.display.HTML object>"
            ]
          },
          "metadata": {},
          "output_type": "display_data"
        },
        {
          "data": {
            "text/html": [
              "<br>    <style><br>        .wandb-row {<br>            display: flex;<br>            flex-direction: row;<br>            flex-wrap: wrap;<br>            justify-content: flex-start;<br>            width: 100%;<br>        }<br>        .wandb-col {<br>            display: flex;<br>            flex-direction: column;<br>            flex-basis: 100%;<br>            flex: 1;<br>            padding: 10px;<br>        }<br>    </style><br><div class=\"wandb-row\"><div class=\"wandb-col\"><h3>Run history:</h3><br/><table class=\"wandb\"><tr><td>epoch</td><td>▁▁▁▁▂▂▂▂▂▂▃▃▃▃▃▄▄▄▄▄▅▅▅▅▅▆▆▆▆▆▇▇▇▇▇▇████</td></tr><tr><td>train/accuracy</td><td>▁</td></tr><tr><td>train/f1_score</td><td>▁</td></tr><tr><td>train/loss</td><td>█▅▅▅▅▅▅▅▄▄▄▄▄▃▃▃▃▃▂▂▂▂▁▁▁</td></tr><tr><td>train/precision_macro</td><td>▁</td></tr><tr><td>train/recall_macro</td><td>▁</td></tr><tr><td>val/accuracy</td><td>▆▇▆▇▇███████▇▇▇▇▆▆▅▅▃▄▄▃▁</td></tr><tr><td>val/f1_score</td><td>▅▆▆▆▇█▇██▆▇▇▇▇▆▇▅▅▅▄▃▃▂▂▁</td></tr><tr><td>val/precision</td><td>▄▄▆▅▆██▇█▆▇▆▇▆▆▆▅▄▃▃▄▁▁▂▁</td></tr><tr><td>val/recall</td><td>▆▇▆▇▇█▇██▇█▇▇▇▇▇▅▆▆▅▃▄▃▃▁</td></tr></table><br/></div><div class=\"wandb-col\"><h3>Run summary:</h3><br/><table class=\"wandb\"><tr><td>epoch</td><td>24</td></tr><tr><td>train/accuracy</td><td>0.69755</td></tr><tr><td>train/f1_score</td><td>0.69753</td></tr><tr><td>train/loss</td><td>0.73832</td></tr><tr><td>train/precision_macro</td><td>0.70566</td></tr><tr><td>train/recall_macro</td><td>0.69422</td></tr><tr><td>val/accuracy</td><td>0.5288</td></tr><tr><td>val/f1_score</td><td>0.52792</td></tr><tr><td>val/precision</td><td>0.53624</td></tr><tr><td>val/recall</td><td>0.5234</td></tr></table><br/></div></div>"
            ],
            "text/plain": [
              "<IPython.core.display.HTML object>"
            ]
          },
          "metadata": {},
          "output_type": "display_data"
        },
        {
          "data": {
            "text/html": [
              " View run <strong style=\"color:#cdcd00\">Architecture class: MLP | setup: 3</strong> at: <a href='https://wandb.ai/atarsander-warsaw-university-of-technology/LLM_lab1/runs/tiu063fk' target=\"_blank\">https://wandb.ai/atarsander-warsaw-university-of-technology/LLM_lab1/runs/tiu063fk</a><br> View project at: <a href='https://wandb.ai/atarsander-warsaw-university-of-technology/LLM_lab1' target=\"_blank\">https://wandb.ai/atarsander-warsaw-university-of-technology/LLM_lab1</a><br>Synced 5 W&B file(s), 25 media file(s), 50 artifact file(s) and 0 other file(s)"
            ],
            "text/plain": [
              "<IPython.core.display.HTML object>"
            ]
          },
          "metadata": {},
          "output_type": "display_data"
        },
        {
          "data": {
            "text/html": [
              "Find logs at: <code>./wandb/run-20251028_131508-tiu063fk/logs</code>"
            ],
            "text/plain": [
              "<IPython.core.display.HTML object>"
            ]
          },
          "metadata": {},
          "output_type": "display_data"
        },
        {
          "name": "stdout",
          "output_type": "stream",
          "text": [
            "[W&B] Training model 4\n"
          ]
        },
        {
          "data": {
            "text/html": [],
            "text/plain": [
              "<IPython.core.display.HTML object>"
            ]
          },
          "metadata": {},
          "output_type": "display_data"
        },
        {
          "data": {
            "text/html": [
              "Tracking run with wandb version 0.22.2"
            ],
            "text/plain": [
              "<IPython.core.display.HTML object>"
            ]
          },
          "metadata": {},
          "output_type": "display_data"
        },
        {
          "data": {
            "text/html": [
              "Run data is saved locally in <code>/home/atarsander/University/LLM/lab1/wandb/run-20251028_131558-1qq9bsgm</code>"
            ],
            "text/plain": [
              "<IPython.core.display.HTML object>"
            ]
          },
          "metadata": {},
          "output_type": "display_data"
        },
        {
          "data": {
            "text/html": [
              "Syncing run <strong><a href='https://wandb.ai/atarsander-warsaw-university-of-technology/LLM_lab1/runs/1qq9bsgm' target=\"_blank\">Architecture class: MLP | setup: 4</a></strong> to <a href='https://wandb.ai/atarsander-warsaw-university-of-technology/LLM_lab1' target=\"_blank\">Weights & Biases</a> (<a href='https://wandb.me/developer-guide' target=\"_blank\">docs</a>)<br>"
            ],
            "text/plain": [
              "<IPython.core.display.HTML object>"
            ]
          },
          "metadata": {},
          "output_type": "display_data"
        },
        {
          "data": {
            "text/html": [
              " View project at <a href='https://wandb.ai/atarsander-warsaw-university-of-technology/LLM_lab1' target=\"_blank\">https://wandb.ai/atarsander-warsaw-university-of-technology/LLM_lab1</a>"
            ],
            "text/plain": [
              "<IPython.core.display.HTML object>"
            ]
          },
          "metadata": {},
          "output_type": "display_data"
        },
        {
          "data": {
            "text/html": [
              " View run at <a href='https://wandb.ai/atarsander-warsaw-university-of-technology/LLM_lab1/runs/1qq9bsgm' target=\"_blank\">https://wandb.ai/atarsander-warsaw-university-of-technology/LLM_lab1/runs/1qq9bsgm</a>"
            ],
            "text/plain": [
              "<IPython.core.display.HTML object>"
            ]
          },
          "metadata": {},
          "output_type": "display_data"
        },
        {
          "name": "stdout",
          "output_type": "stream",
          "text": [
            "[W&B] Training done\n"
          ]
        },
        {
          "data": {
            "text/html": [],
            "text/plain": [
              "<IPython.core.display.HTML object>"
            ]
          },
          "metadata": {},
          "output_type": "display_data"
        },
        {
          "data": {
            "text/html": [
              "<br>    <style><br>        .wandb-row {<br>            display: flex;<br>            flex-direction: row;<br>            flex-wrap: wrap;<br>            justify-content: flex-start;<br>            width: 100%;<br>        }<br>        .wandb-col {<br>            display: flex;<br>            flex-direction: column;<br>            flex-basis: 100%;<br>            flex: 1;<br>            padding: 10px;<br>        }<br>    </style><br><div class=\"wandb-row\"><div class=\"wandb-col\"><h3>Run history:</h3><br/><table class=\"wandb\"><tr><td>epoch</td><td>▁▁▁▁▂▂▂▂▂▂▃▃▃▃▃▄▄▄▄▄▅▅▅▅▅▆▆▆▆▆▇▇▇▇▇▇████</td></tr><tr><td>train/accuracy</td><td>▁</td></tr><tr><td>train/f1_score</td><td>▁</td></tr><tr><td>train/loss</td><td>█▃▃▃▂▂▂▂▂▂▂▂▂▂▂▂▂▁▁▁▁▁▁▁▁</td></tr><tr><td>train/precision_macro</td><td>▁</td></tr><tr><td>train/recall_macro</td><td>▁</td></tr><tr><td>val/accuracy</td><td>▁▃▄▅▅▇▇▆▇▆▇█▇▇██▇██████▇█</td></tr><tr><td>val/f1_score</td><td>▁▃▄▅▅▆▆▆▇▆▆▇▇▇▇▇▇▇▇▇█▇▇▇▇</td></tr><tr><td>val/precision</td><td>▁▃▄▅▄▆▅▅▆▆▆▇▆▆▇▆▆▆▇▇█▇▇▇▇</td></tr><tr><td>val/recall</td><td>▁▄▄▅▅▆▆▆▇▆▇▇▇▇▇▇▇▇▇▇██▇▇█</td></tr></table><br/></div><div class=\"wandb-col\"><h3>Run summary:</h3><br/><table class=\"wandb\"><tr><td>epoch</td><td>24</td></tr><tr><td>train/accuracy</td><td>0.61916</td></tr><tr><td>train/f1_score</td><td>0.61402</td></tr><tr><td>train/loss</td><td>0.93767</td></tr><tr><td>train/precision_macro</td><td>0.614</td></tr><tr><td>train/recall_macro</td><td>0.61464</td></tr><tr><td>val/accuracy</td><td>0.57673</td></tr><tr><td>val/f1_score</td><td>0.57044</td></tr><tr><td>val/precision</td><td>0.57044</td></tr><tr><td>val/recall</td><td>0.57102</td></tr></table><br/></div></div>"
            ],
            "text/plain": [
              "<IPython.core.display.HTML object>"
            ]
          },
          "metadata": {},
          "output_type": "display_data"
        },
        {
          "data": {
            "text/html": [
              " View run <strong style=\"color:#cdcd00\">Architecture class: MLP | setup: 4</strong> at: <a href='https://wandb.ai/atarsander-warsaw-university-of-technology/LLM_lab1/runs/1qq9bsgm' target=\"_blank\">https://wandb.ai/atarsander-warsaw-university-of-technology/LLM_lab1/runs/1qq9bsgm</a><br> View project at: <a href='https://wandb.ai/atarsander-warsaw-university-of-technology/LLM_lab1' target=\"_blank\">https://wandb.ai/atarsander-warsaw-university-of-technology/LLM_lab1</a><br>Synced 5 W&B file(s), 25 media file(s), 50 artifact file(s) and 0 other file(s)"
            ],
            "text/plain": [
              "<IPython.core.display.HTML object>"
            ]
          },
          "metadata": {},
          "output_type": "display_data"
        },
        {
          "data": {
            "text/html": [
              "Find logs at: <code>./wandb/run-20251028_131558-1qq9bsgm/logs</code>"
            ],
            "text/plain": [
              "<IPython.core.display.HTML object>"
            ]
          },
          "metadata": {},
          "output_type": "display_data"
        },
        {
          "name": "stdout",
          "output_type": "stream",
          "text": [
            "[W&B] Training model 5\n"
          ]
        },
        {
          "data": {
            "text/html": [],
            "text/plain": [
              "<IPython.core.display.HTML object>"
            ]
          },
          "metadata": {},
          "output_type": "display_data"
        },
        {
          "data": {
            "text/html": [
              "Tracking run with wandb version 0.22.2"
            ],
            "text/plain": [
              "<IPython.core.display.HTML object>"
            ]
          },
          "metadata": {},
          "output_type": "display_data"
        },
        {
          "data": {
            "text/html": [
              "Run data is saved locally in <code>/home/atarsander/University/LLM/lab1/wandb/run-20251028_131649-k6qxqaul</code>"
            ],
            "text/plain": [
              "<IPython.core.display.HTML object>"
            ]
          },
          "metadata": {},
          "output_type": "display_data"
        },
        {
          "data": {
            "text/html": [
              "Syncing run <strong><a href='https://wandb.ai/atarsander-warsaw-university-of-technology/LLM_lab1/runs/k6qxqaul' target=\"_blank\">Architecture class: MLP | setup: 5</a></strong> to <a href='https://wandb.ai/atarsander-warsaw-university-of-technology/LLM_lab1' target=\"_blank\">Weights & Biases</a> (<a href='https://wandb.me/developer-guide' target=\"_blank\">docs</a>)<br>"
            ],
            "text/plain": [
              "<IPython.core.display.HTML object>"
            ]
          },
          "metadata": {},
          "output_type": "display_data"
        },
        {
          "data": {
            "text/html": [
              " View project at <a href='https://wandb.ai/atarsander-warsaw-university-of-technology/LLM_lab1' target=\"_blank\">https://wandb.ai/atarsander-warsaw-university-of-technology/LLM_lab1</a>"
            ],
            "text/plain": [
              "<IPython.core.display.HTML object>"
            ]
          },
          "metadata": {},
          "output_type": "display_data"
        },
        {
          "data": {
            "text/html": [
              " View run at <a href='https://wandb.ai/atarsander-warsaw-university-of-technology/LLM_lab1/runs/k6qxqaul' target=\"_blank\">https://wandb.ai/atarsander-warsaw-university-of-technology/LLM_lab1/runs/k6qxqaul</a>"
            ],
            "text/plain": [
              "<IPython.core.display.HTML object>"
            ]
          },
          "metadata": {},
          "output_type": "display_data"
        },
        {
          "name": "stdout",
          "output_type": "stream",
          "text": [
            "[W&B] Training done\n"
          ]
        },
        {
          "data": {
            "text/html": [],
            "text/plain": [
              "<IPython.core.display.HTML object>"
            ]
          },
          "metadata": {},
          "output_type": "display_data"
        },
        {
          "data": {
            "text/html": [
              "<br>    <style><br>        .wandb-row {<br>            display: flex;<br>            flex-direction: row;<br>            flex-wrap: wrap;<br>            justify-content: flex-start;<br>            width: 100%;<br>        }<br>        .wandb-col {<br>            display: flex;<br>            flex-direction: column;<br>            flex-basis: 100%;<br>            flex: 1;<br>            padding: 10px;<br>        }<br>    </style><br><div class=\"wandb-row\"><div class=\"wandb-col\"><h3>Run history:</h3><br/><table class=\"wandb\"><tr><td>epoch</td><td>▁▁▁▁▂▂▂▂▂▂▃▃▃▃▃▄▄▄▄▄▅▅▅▅▅▅▆▆▆▆▆▇▇▇▇▇▇███</td></tr><tr><td>train/accuracy</td><td>▁</td></tr><tr><td>train/f1_score</td><td>▁</td></tr><tr><td>train/loss</td><td>█▃▂▂▂▂▂▂▂▂▂▁▁▁▁▁▁▁▁▁▁▁▁▁▁</td></tr><tr><td>train/precision_macro</td><td>▁</td></tr><tr><td>train/recall_macro</td><td>▁</td></tr><tr><td>val/accuracy</td><td>▁▆▆▇▇▇▇▇▇▇▇▇█▇███████████</td></tr><tr><td>val/f1_score</td><td>▁▆▇▇▇▇▇▇▇▇█▇████▇████████</td></tr><tr><td>val/precision</td><td>▁▆▇▆▆▇▇▇▇▇█▇▇▇██▇████████</td></tr><tr><td>val/recall</td><td>▁▆▇▇▇▇▇▇▇▇▇▇████▇████████</td></tr></table><br/></div><div class=\"wandb-col\"><h3>Run summary:</h3><br/><table class=\"wandb\"><tr><td>epoch</td><td>24</td></tr><tr><td>train/accuracy</td><td>0.58868</td></tr><tr><td>train/f1_score</td><td>0.5804</td></tr><tr><td>train/loss</td><td>0.99453</td></tr><tr><td>train/precision_macro</td><td>0.57848</td></tr><tr><td>train/recall_macro</td><td>0.58458</td></tr><tr><td>val/accuracy</td><td>0.57213</td></tr><tr><td>val/f1_score</td><td>0.56331</td></tr><tr><td>val/precision</td><td>0.56153</td></tr><tr><td>val/recall</td><td>0.56689</td></tr></table><br/></div></div>"
            ],
            "text/plain": [
              "<IPython.core.display.HTML object>"
            ]
          },
          "metadata": {},
          "output_type": "display_data"
        },
        {
          "data": {
            "text/html": [
              " View run <strong style=\"color:#cdcd00\">Architecture class: MLP | setup: 5</strong> at: <a href='https://wandb.ai/atarsander-warsaw-university-of-technology/LLM_lab1/runs/k6qxqaul' target=\"_blank\">https://wandb.ai/atarsander-warsaw-university-of-technology/LLM_lab1/runs/k6qxqaul</a><br> View project at: <a href='https://wandb.ai/atarsander-warsaw-university-of-technology/LLM_lab1' target=\"_blank\">https://wandb.ai/atarsander-warsaw-university-of-technology/LLM_lab1</a><br>Synced 5 W&B file(s), 25 media file(s), 50 artifact file(s) and 0 other file(s)"
            ],
            "text/plain": [
              "<IPython.core.display.HTML object>"
            ]
          },
          "metadata": {},
          "output_type": "display_data"
        },
        {
          "data": {
            "text/html": [
              "Find logs at: <code>./wandb/run-20251028_131649-k6qxqaul/logs</code>"
            ],
            "text/plain": [
              "<IPython.core.display.HTML object>"
            ]
          },
          "metadata": {},
          "output_type": "display_data"
        },
        {
          "name": "stdout",
          "output_type": "stream",
          "text": [
            "[W&B] Training model 6\n"
          ]
        },
        {
          "data": {
            "text/html": [],
            "text/plain": [
              "<IPython.core.display.HTML object>"
            ]
          },
          "metadata": {},
          "output_type": "display_data"
        },
        {
          "data": {
            "text/html": [
              "Tracking run with wandb version 0.22.2"
            ],
            "text/plain": [
              "<IPython.core.display.HTML object>"
            ]
          },
          "metadata": {},
          "output_type": "display_data"
        },
        {
          "data": {
            "text/html": [
              "Run data is saved locally in <code>/home/atarsander/University/LLM/lab1/wandb/run-20251028_131738-g4qtom33</code>"
            ],
            "text/plain": [
              "<IPython.core.display.HTML object>"
            ]
          },
          "metadata": {},
          "output_type": "display_data"
        },
        {
          "data": {
            "text/html": [
              "Syncing run <strong><a href='https://wandb.ai/atarsander-warsaw-university-of-technology/LLM_lab1/runs/g4qtom33' target=\"_blank\">Architecture class: MLP | setup: 6</a></strong> to <a href='https://wandb.ai/atarsander-warsaw-university-of-technology/LLM_lab1' target=\"_blank\">Weights & Biases</a> (<a href='https://wandb.me/developer-guide' target=\"_blank\">docs</a>)<br>"
            ],
            "text/plain": [
              "<IPython.core.display.HTML object>"
            ]
          },
          "metadata": {},
          "output_type": "display_data"
        },
        {
          "data": {
            "text/html": [
              " View project at <a href='https://wandb.ai/atarsander-warsaw-university-of-technology/LLM_lab1' target=\"_blank\">https://wandb.ai/atarsander-warsaw-university-of-technology/LLM_lab1</a>"
            ],
            "text/plain": [
              "<IPython.core.display.HTML object>"
            ]
          },
          "metadata": {},
          "output_type": "display_data"
        },
        {
          "data": {
            "text/html": [
              " View run at <a href='https://wandb.ai/atarsander-warsaw-university-of-technology/LLM_lab1/runs/g4qtom33' target=\"_blank\">https://wandb.ai/atarsander-warsaw-university-of-technology/LLM_lab1/runs/g4qtom33</a>"
            ],
            "text/plain": [
              "<IPython.core.display.HTML object>"
            ]
          },
          "metadata": {},
          "output_type": "display_data"
        },
        {
          "name": "stdout",
          "output_type": "stream",
          "text": [
            "[W&B] Training done\n"
          ]
        },
        {
          "data": {
            "text/html": [],
            "text/plain": [
              "<IPython.core.display.HTML object>"
            ]
          },
          "metadata": {},
          "output_type": "display_data"
        },
        {
          "data": {
            "text/html": [
              "<br>    <style><br>        .wandb-row {<br>            display: flex;<br>            flex-direction: row;<br>            flex-wrap: wrap;<br>            justify-content: flex-start;<br>            width: 100%;<br>        }<br>        .wandb-col {<br>            display: flex;<br>            flex-direction: column;<br>            flex-basis: 100%;<br>            flex: 1;<br>            padding: 10px;<br>        }<br>    </style><br><div class=\"wandb-row\"><div class=\"wandb-col\"><h3>Run history:</h3><br/><table class=\"wandb\"><tr><td>epoch</td><td>▁▁▁▁▂▂▂▂▂▂▃▃▃▃▃▄▄▄▄▅▅▅▅▅▅▆▆▆▆▆▇▇▇▇▇▇████</td></tr><tr><td>train/accuracy</td><td>▁</td></tr><tr><td>train/f1_score</td><td>▁</td></tr><tr><td>train/loss</td><td>█▇▆▆▆▅▅▅▄▄▄▃▃▃▃▂▂▂▂▂▂▁▁▁▁</td></tr><tr><td>train/precision_macro</td><td>▁</td></tr><tr><td>train/recall_macro</td><td>▁</td></tr><tr><td>val/accuracy</td><td>▆▇██▇▇▇▅▅▅▅▃▄▄▃▂▃▃▁▂▂▁▁▁▂</td></tr><tr><td>val/f1_score</td><td>▅▇▇█▇▇▇▅▆▄▄▃▃▄▃▃▂▂▁▂▁▁▂▁▂</td></tr><tr><td>val/precision</td><td>▅▇██▇██▆▆▄▄▃▄▅▄▄▁▂▁▃▁▂▃▃▂</td></tr><tr><td>val/recall</td><td>▆▇██▇▇▇▆▆▄▅▃▄▄▄▃▃▃▂▂▂▁▂▁▂</td></tr></table><br/></div><div class=\"wandb-col\"><h3>Run summary:</h3><br/><table class=\"wandb\"><tr><td>epoch</td><td>24</td></tr><tr><td>train/accuracy</td><td>0.93526</td></tr><tr><td>train/f1_score</td><td>0.93468</td></tr><tr><td>train/loss</td><td>0.49906</td></tr><tr><td>train/precision_macro</td><td>0.93548</td></tr><tr><td>train/recall_macro</td><td>0.93448</td></tr><tr><td>val/accuracy</td><td>0.54553</td></tr><tr><td>val/f1_score</td><td>0.53784</td></tr><tr><td>val/precision</td><td>0.53742</td></tr><tr><td>val/recall</td><td>0.5392</td></tr></table><br/></div></div>"
            ],
            "text/plain": [
              "<IPython.core.display.HTML object>"
            ]
          },
          "metadata": {},
          "output_type": "display_data"
        },
        {
          "data": {
            "text/html": [
              " View run <strong style=\"color:#cdcd00\">Architecture class: MLP | setup: 6</strong> at: <a href='https://wandb.ai/atarsander-warsaw-university-of-technology/LLM_lab1/runs/g4qtom33' target=\"_blank\">https://wandb.ai/atarsander-warsaw-university-of-technology/LLM_lab1/runs/g4qtom33</a><br> View project at: <a href='https://wandb.ai/atarsander-warsaw-university-of-technology/LLM_lab1' target=\"_blank\">https://wandb.ai/atarsander-warsaw-university-of-technology/LLM_lab1</a><br>Synced 5 W&B file(s), 25 media file(s), 50 artifact file(s) and 0 other file(s)"
            ],
            "text/plain": [
              "<IPython.core.display.HTML object>"
            ]
          },
          "metadata": {},
          "output_type": "display_data"
        },
        {
          "data": {
            "text/html": [
              "Find logs at: <code>./wandb/run-20251028_131738-g4qtom33/logs</code>"
            ],
            "text/plain": [
              "<IPython.core.display.HTML object>"
            ]
          },
          "metadata": {},
          "output_type": "display_data"
        },
        {
          "name": "stdout",
          "output_type": "stream",
          "text": [
            "[W&B] Training model 7\n"
          ]
        },
        {
          "data": {
            "text/html": [],
            "text/plain": [
              "<IPython.core.display.HTML object>"
            ]
          },
          "metadata": {},
          "output_type": "display_data"
        },
        {
          "data": {
            "text/html": [
              "Tracking run with wandb version 0.22.2"
            ],
            "text/plain": [
              "<IPython.core.display.HTML object>"
            ]
          },
          "metadata": {},
          "output_type": "display_data"
        },
        {
          "data": {
            "text/html": [
              "Run data is saved locally in <code>/home/atarsander/University/LLM/lab1/wandb/run-20251028_131832-1hkky8ww</code>"
            ],
            "text/plain": [
              "<IPython.core.display.HTML object>"
            ]
          },
          "metadata": {},
          "output_type": "display_data"
        },
        {
          "data": {
            "text/html": [
              "Syncing run <strong><a href='https://wandb.ai/atarsander-warsaw-university-of-technology/LLM_lab1/runs/1hkky8ww' target=\"_blank\">Architecture class: MLP | setup: 7</a></strong> to <a href='https://wandb.ai/atarsander-warsaw-university-of-technology/LLM_lab1' target=\"_blank\">Weights & Biases</a> (<a href='https://wandb.me/developer-guide' target=\"_blank\">docs</a>)<br>"
            ],
            "text/plain": [
              "<IPython.core.display.HTML object>"
            ]
          },
          "metadata": {},
          "output_type": "display_data"
        },
        {
          "data": {
            "text/html": [
              " View project at <a href='https://wandb.ai/atarsander-warsaw-university-of-technology/LLM_lab1' target=\"_blank\">https://wandb.ai/atarsander-warsaw-university-of-technology/LLM_lab1</a>"
            ],
            "text/plain": [
              "<IPython.core.display.HTML object>"
            ]
          },
          "metadata": {},
          "output_type": "display_data"
        },
        {
          "data": {
            "text/html": [
              " View run at <a href='https://wandb.ai/atarsander-warsaw-university-of-technology/LLM_lab1/runs/1hkky8ww' target=\"_blank\">https://wandb.ai/atarsander-warsaw-university-of-technology/LLM_lab1/runs/1hkky8ww</a>"
            ],
            "text/plain": [
              "<IPython.core.display.HTML object>"
            ]
          },
          "metadata": {},
          "output_type": "display_data"
        },
        {
          "name": "stdout",
          "output_type": "stream",
          "text": [
            "[W&B] Training done\n"
          ]
        },
        {
          "data": {
            "text/html": [],
            "text/plain": [
              "<IPython.core.display.HTML object>"
            ]
          },
          "metadata": {},
          "output_type": "display_data"
        },
        {
          "data": {
            "text/html": [
              "<br>    <style><br>        .wandb-row {<br>            display: flex;<br>            flex-direction: row;<br>            flex-wrap: wrap;<br>            justify-content: flex-start;<br>            width: 100%;<br>        }<br>        .wandb-col {<br>            display: flex;<br>            flex-direction: column;<br>            flex-basis: 100%;<br>            flex: 1;<br>            padding: 10px;<br>        }<br>    </style><br><div class=\"wandb-row\"><div class=\"wandb-col\"><h3>Run history:</h3><br/><table class=\"wandb\"><tr><td>epoch</td><td>▁▁▁▁▂▂▂▂▂▂▃▃▃▃▃▄▄▄▄▅▅▅▅▅▅▆▆▆▆▆▇▇▇▇▇▇▇███</td></tr><tr><td>train/accuracy</td><td>▁</td></tr><tr><td>train/f1_score</td><td>▁</td></tr><tr><td>train/loss</td><td>█▆▆▆▅▅▅▄▄▄▃▃▃▃▂▂▂▂▂▂▁▁▁▁▁</td></tr><tr><td>train/precision_macro</td><td>▁</td></tr><tr><td>train/recall_macro</td><td>▁</td></tr><tr><td>val/accuracy</td><td>▅▆▆█▇▇▆▇▅▅▄▄▄▄▃▄▄▃▃▃▃▂▂▂▁</td></tr><tr><td>val/f1_score</td><td>▅▆▅█▇▆▆▇▅▅▄▄▄▄▃▃▃▃▂▂▃▂▂▁▂</td></tr><tr><td>val/precision</td><td>▅▇▅█▇▆▅▇▅▄▃▃▃▃▃▃▃▃▂▂▂▁▁▁▂</td></tr><tr><td>val/recall</td><td>▅▆▆█▆▇▆▇▅▅▄▄▄▄▃▄▃▃▂▂▃▂▂▁▁</td></tr></table><br/></div><div class=\"wandb-col\"><h3>Run summary:</h3><br/><table class=\"wandb\"><tr><td>epoch</td><td>24</td></tr><tr><td>train/accuracy</td><td>0.85264</td></tr><tr><td>train/f1_score</td><td>0.85192</td></tr><tr><td>train/loss</td><td>0.63015</td></tr><tr><td>train/precision_macro</td><td>0.85179</td></tr><tr><td>train/recall_macro</td><td>0.85236</td></tr><tr><td>val/accuracy</td><td>0.54193</td></tr><tr><td>val/f1_score</td><td>0.53779</td></tr><tr><td>val/precision</td><td>0.53873</td></tr><tr><td>val/recall</td><td>0.53733</td></tr></table><br/></div></div>"
            ],
            "text/plain": [
              "<IPython.core.display.HTML object>"
            ]
          },
          "metadata": {},
          "output_type": "display_data"
        },
        {
          "data": {
            "text/html": [
              " View run <strong style=\"color:#cdcd00\">Architecture class: MLP | setup: 7</strong> at: <a href='https://wandb.ai/atarsander-warsaw-university-of-technology/LLM_lab1/runs/1hkky8ww' target=\"_blank\">https://wandb.ai/atarsander-warsaw-university-of-technology/LLM_lab1/runs/1hkky8ww</a><br> View project at: <a href='https://wandb.ai/atarsander-warsaw-university-of-technology/LLM_lab1' target=\"_blank\">https://wandb.ai/atarsander-warsaw-university-of-technology/LLM_lab1</a><br>Synced 5 W&B file(s), 25 media file(s), 50 artifact file(s) and 0 other file(s)"
            ],
            "text/plain": [
              "<IPython.core.display.HTML object>"
            ]
          },
          "metadata": {},
          "output_type": "display_data"
        },
        {
          "data": {
            "text/html": [
              "Find logs at: <code>./wandb/run-20251028_131832-1hkky8ww/logs</code>"
            ],
            "text/plain": [
              "<IPython.core.display.HTML object>"
            ]
          },
          "metadata": {},
          "output_type": "display_data"
        },
        {
          "name": "stdout",
          "output_type": "stream",
          "text": [
            "[W&B] Training model 8\n"
          ]
        },
        {
          "data": {
            "text/html": [],
            "text/plain": [
              "<IPython.core.display.HTML object>"
            ]
          },
          "metadata": {},
          "output_type": "display_data"
        },
        {
          "data": {
            "text/html": [
              "Tracking run with wandb version 0.22.2"
            ],
            "text/plain": [
              "<IPython.core.display.HTML object>"
            ]
          },
          "metadata": {},
          "output_type": "display_data"
        },
        {
          "data": {
            "text/html": [
              "Run data is saved locally in <code>/home/atarsander/University/LLM/lab1/wandb/run-20251028_131921-pr4oxyfg</code>"
            ],
            "text/plain": [
              "<IPython.core.display.HTML object>"
            ]
          },
          "metadata": {},
          "output_type": "display_data"
        },
        {
          "data": {
            "text/html": [
              "Syncing run <strong><a href='https://wandb.ai/atarsander-warsaw-university-of-technology/LLM_lab1/runs/pr4oxyfg' target=\"_blank\">Architecture class: MLP | setup: 8</a></strong> to <a href='https://wandb.ai/atarsander-warsaw-university-of-technology/LLM_lab1' target=\"_blank\">Weights & Biases</a> (<a href='https://wandb.me/developer-guide' target=\"_blank\">docs</a>)<br>"
            ],
            "text/plain": [
              "<IPython.core.display.HTML object>"
            ]
          },
          "metadata": {},
          "output_type": "display_data"
        },
        {
          "data": {
            "text/html": [
              " View project at <a href='https://wandb.ai/atarsander-warsaw-university-of-technology/LLM_lab1' target=\"_blank\">https://wandb.ai/atarsander-warsaw-university-of-technology/LLM_lab1</a>"
            ],
            "text/plain": [
              "<IPython.core.display.HTML object>"
            ]
          },
          "metadata": {},
          "output_type": "display_data"
        },
        {
          "data": {
            "text/html": [
              " View run at <a href='https://wandb.ai/atarsander-warsaw-university-of-technology/LLM_lab1/runs/pr4oxyfg' target=\"_blank\">https://wandb.ai/atarsander-warsaw-university-of-technology/LLM_lab1/runs/pr4oxyfg</a>"
            ],
            "text/plain": [
              "<IPython.core.display.HTML object>"
            ]
          },
          "metadata": {},
          "output_type": "display_data"
        },
        {
          "name": "stdout",
          "output_type": "stream",
          "text": [
            "[W&B] Training done\n"
          ]
        },
        {
          "data": {
            "text/html": [],
            "text/plain": [
              "<IPython.core.display.HTML object>"
            ]
          },
          "metadata": {},
          "output_type": "display_data"
        },
        {
          "data": {
            "text/html": [
              "<br>    <style><br>        .wandb-row {<br>            display: flex;<br>            flex-direction: row;<br>            flex-wrap: wrap;<br>            justify-content: flex-start;<br>            width: 100%;<br>        }<br>        .wandb-col {<br>            display: flex;<br>            flex-direction: column;<br>            flex-basis: 100%;<br>            flex: 1;<br>            padding: 10px;<br>        }<br>    </style><br><div class=\"wandb-row\"><div class=\"wandb-col\"><h3>Run history:</h3><br/><table class=\"wandb\"><tr><td>epoch</td><td>▁▁▁▁▂▂▂▂▂▂▃▃▃▃▃▄▄▄▄▄▅▅▅▅▅▅▆▆▆▆▇▇▇▇▇▇▇███</td></tr><tr><td>train/accuracy</td><td>▁</td></tr><tr><td>train/f1_score</td><td>▁</td></tr><tr><td>train/loss</td><td>█▄▄▄▄▄▄▃▃▃▃▃▃▃▃▂▂▂▂▂▂▂▁▁▁</td></tr><tr><td>train/precision_macro</td><td>▁</td></tr><tr><td>train/recall_macro</td><td>▁</td></tr><tr><td>val/accuracy</td><td>▁▅▅▃▅▄▅▆▆▆▆▇▇▅▇▆▆▇█▇█▆▇▇▆</td></tr><tr><td>val/f1_score</td><td>▂▃▇▁▆▃▆▆▄▅▆▆▆▄▄▅▄▄▇▇█▆▅▆▇</td></tr><tr><td>val/precision</td><td>▄▃▇▁▆▂▆▆▄▅▇▇▅▄▄▄▄▄▇▇█▅▅▅█</td></tr><tr><td>val/recall</td><td>▁▅▆▄▆▅▆▆▆▆▆█▇▆▆▆▆▇█▇█▇▇▇▆</td></tr></table><br/></div><div class=\"wandb-col\"><h3>Run summary:</h3><br/><table class=\"wandb\"><tr><td>epoch</td><td>24</td></tr><tr><td>train/accuracy</td><td>0.68114</td></tr><tr><td>train/f1_score</td><td>0.67742</td></tr><tr><td>train/loss</td><td>0.83516</td></tr><tr><td>train/precision_macro</td><td>0.68015</td></tr><tr><td>train/recall_macro</td><td>0.67702</td></tr><tr><td>val/accuracy</td><td>0.57093</td></tr><tr><td>val/f1_score</td><td>0.56401</td></tr><tr><td>val/precision</td><td>0.56655</td></tr><tr><td>val/recall</td><td>0.56416</td></tr></table><br/></div></div>"
            ],
            "text/plain": [
              "<IPython.core.display.HTML object>"
            ]
          },
          "metadata": {},
          "output_type": "display_data"
        },
        {
          "data": {
            "text/html": [
              " View run <strong style=\"color:#cdcd00\">Architecture class: MLP | setup: 8</strong> at: <a href='https://wandb.ai/atarsander-warsaw-university-of-technology/LLM_lab1/runs/pr4oxyfg' target=\"_blank\">https://wandb.ai/atarsander-warsaw-university-of-technology/LLM_lab1/runs/pr4oxyfg</a><br> View project at: <a href='https://wandb.ai/atarsander-warsaw-university-of-technology/LLM_lab1' target=\"_blank\">https://wandb.ai/atarsander-warsaw-university-of-technology/LLM_lab1</a><br>Synced 5 W&B file(s), 25 media file(s), 50 artifact file(s) and 0 other file(s)"
            ],
            "text/plain": [
              "<IPython.core.display.HTML object>"
            ]
          },
          "metadata": {},
          "output_type": "display_data"
        },
        {
          "data": {
            "text/html": [
              "Find logs at: <code>./wandb/run-20251028_131921-pr4oxyfg/logs</code>"
            ],
            "text/plain": [
              "<IPython.core.display.HTML object>"
            ]
          },
          "metadata": {},
          "output_type": "display_data"
        },
        {
          "name": "stdout",
          "output_type": "stream",
          "text": [
            "[W&B] Training model 9\n"
          ]
        },
        {
          "data": {
            "text/html": [],
            "text/plain": [
              "<IPython.core.display.HTML object>"
            ]
          },
          "metadata": {},
          "output_type": "display_data"
        },
        {
          "data": {
            "text/html": [
              "Tracking run with wandb version 0.22.2"
            ],
            "text/plain": [
              "<IPython.core.display.HTML object>"
            ]
          },
          "metadata": {},
          "output_type": "display_data"
        },
        {
          "data": {
            "text/html": [
              "Run data is saved locally in <code>/home/atarsander/University/LLM/lab1/wandb/run-20251028_132010-drgz4ukh</code>"
            ],
            "text/plain": [
              "<IPython.core.display.HTML object>"
            ]
          },
          "metadata": {},
          "output_type": "display_data"
        },
        {
          "data": {
            "text/html": [
              "Syncing run <strong><a href='https://wandb.ai/atarsander-warsaw-university-of-technology/LLM_lab1/runs/drgz4ukh' target=\"_blank\">Architecture class: MLP | setup: 9</a></strong> to <a href='https://wandb.ai/atarsander-warsaw-university-of-technology/LLM_lab1' target=\"_blank\">Weights & Biases</a> (<a href='https://wandb.me/developer-guide' target=\"_blank\">docs</a>)<br>"
            ],
            "text/plain": [
              "<IPython.core.display.HTML object>"
            ]
          },
          "metadata": {},
          "output_type": "display_data"
        },
        {
          "data": {
            "text/html": [
              " View project at <a href='https://wandb.ai/atarsander-warsaw-university-of-technology/LLM_lab1' target=\"_blank\">https://wandb.ai/atarsander-warsaw-university-of-technology/LLM_lab1</a>"
            ],
            "text/plain": [
              "<IPython.core.display.HTML object>"
            ]
          },
          "metadata": {},
          "output_type": "display_data"
        },
        {
          "data": {
            "text/html": [
              " View run at <a href='https://wandb.ai/atarsander-warsaw-university-of-technology/LLM_lab1/runs/drgz4ukh' target=\"_blank\">https://wandb.ai/atarsander-warsaw-university-of-technology/LLM_lab1/runs/drgz4ukh</a>"
            ],
            "text/plain": [
              "<IPython.core.display.HTML object>"
            ]
          },
          "metadata": {},
          "output_type": "display_data"
        },
        {
          "name": "stdout",
          "output_type": "stream",
          "text": [
            "[W&B] Training done\n"
          ]
        },
        {
          "data": {
            "text/html": [],
            "text/plain": [
              "<IPython.core.display.HTML object>"
            ]
          },
          "metadata": {},
          "output_type": "display_data"
        },
        {
          "data": {
            "text/html": [
              "<br>    <style><br>        .wandb-row {<br>            display: flex;<br>            flex-direction: row;<br>            flex-wrap: wrap;<br>            justify-content: flex-start;<br>            width: 100%;<br>        }<br>        .wandb-col {<br>            display: flex;<br>            flex-direction: column;<br>            flex-basis: 100%;<br>            flex: 1;<br>            padding: 10px;<br>        }<br>    </style><br><div class=\"wandb-row\"><div class=\"wandb-col\"><h3>Run history:</h3><br/><table class=\"wandb\"><tr><td>epoch</td><td>▁▁▁▂▂▂▂▂▂▂▃▃▃▃▃▄▄▄▄▅▅▅▅▅▅▆▆▆▆▆▇▇▇▇▇▇████</td></tr><tr><td>train/accuracy</td><td>▁</td></tr><tr><td>train/f1_score</td><td>▁</td></tr><tr><td>train/loss</td><td>█▅▅▄▄▄▄▃▃▃▃▃▃▂▂▂▂▂▂▂▁▁▁▁▁</td></tr><tr><td>train/precision_macro</td><td>▁</td></tr><tr><td>train/recall_macro</td><td>▁</td></tr><tr><td>val/accuracy</td><td>▁▄▂▅▅▆▅▇▆▇█▇▆▇▇█▇▆▇▇▆▆▆▄▆</td></tr><tr><td>val/f1_score</td><td>▂▃▁▅▆▆▅▆▇▇█▆▆▆▇▇▇▆▆▆▆▅▆▅▆</td></tr><tr><td>val/precision</td><td>▁▃▁▄▆▅▄▅▇▇█▆▅▆▆▇▇▆▆▆▆▅▅▅▆</td></tr><tr><td>val/recall</td><td>▁▄▂▅▅▆▆▇▇▇█▆▆▆▇▇▇▆▇▇▆▆▆▄▆</td></tr></table><br/></div><div class=\"wandb-col\"><h3>Run summary:</h3><br/><table class=\"wandb\"><tr><td>epoch</td><td>24</td></tr><tr><td>train/accuracy</td><td>0.71118</td></tr><tr><td>train/f1_score</td><td>0.70427</td></tr><tr><td>train/loss</td><td>0.84655</td></tr><tr><td>train/precision_macro</td><td>0.70448</td></tr><tr><td>train/recall_macro</td><td>0.7085</td></tr><tr><td>val/accuracy</td><td>0.57267</td></tr><tr><td>val/f1_score</td><td>0.56229</td></tr><tr><td>val/precision</td><td>0.56088</td></tr><tr><td>val/recall</td><td>0.56711</td></tr></table><br/></div></div>"
            ],
            "text/plain": [
              "<IPython.core.display.HTML object>"
            ]
          },
          "metadata": {},
          "output_type": "display_data"
        },
        {
          "data": {
            "text/html": [
              " View run <strong style=\"color:#cdcd00\">Architecture class: MLP | setup: 9</strong> at: <a href='https://wandb.ai/atarsander-warsaw-university-of-technology/LLM_lab1/runs/drgz4ukh' target=\"_blank\">https://wandb.ai/atarsander-warsaw-university-of-technology/LLM_lab1/runs/drgz4ukh</a><br> View project at: <a href='https://wandb.ai/atarsander-warsaw-university-of-technology/LLM_lab1' target=\"_blank\">https://wandb.ai/atarsander-warsaw-university-of-technology/LLM_lab1</a><br>Synced 5 W&B file(s), 25 media file(s), 50 artifact file(s) and 0 other file(s)"
            ],
            "text/plain": [
              "<IPython.core.display.HTML object>"
            ]
          },
          "metadata": {},
          "output_type": "display_data"
        },
        {
          "data": {
            "text/html": [
              "Find logs at: <code>./wandb/run-20251028_132010-drgz4ukh/logs</code>"
            ],
            "text/plain": [
              "<IPython.core.display.HTML object>"
            ]
          },
          "metadata": {},
          "output_type": "display_data"
        }
      ],
      "source": [
        "results, best = tune_architecture(\n",
        "    MLP, train_loader, val_loader, architectures, training_setup, device=DEVICE\n",
        ")"
      ]
    },
    {
      "cell_type": "markdown",
      "metadata": {},
      "source": [
        "Najgorsze wyniki osiągnęły architektury głębokie (z większą liczbą warstw), używające batch normu, oraz posiadające zbyt duży rozmiar warstwy wejściowej."
      ]
    },
    {
      "cell_type": "code",
      "execution_count": 21,
      "metadata": {},
      "outputs": [
        {
          "data": {
            "text/html": [
              "<div>\n",
              "<style scoped>\n",
              "    .dataframe tbody tr th:only-of-type {\n",
              "        vertical-align: middle;\n",
              "    }\n",
              "\n",
              "    .dataframe tbody tr th {\n",
              "        vertical-align: top;\n",
              "    }\n",
              "\n",
              "    .dataframe thead th {\n",
              "        text-align: right;\n",
              "    }\n",
              "</style>\n",
              "<table border=\"1\" class=\"dataframe\">\n",
              "  <thead>\n",
              "    <tr style=\"text-align: right;\">\n",
              "      <th></th>\n",
              "      <th>Architecture class: MLP | setup: 4</th>\n",
              "    </tr>\n",
              "  </thead>\n",
              "  <tbody>\n",
              "    <tr>\n",
              "      <th>accuracy</th>\n",
              "      <td>0.576733</td>\n",
              "    </tr>\n",
              "    <tr>\n",
              "      <th>precision_macro</th>\n",
              "      <td>0.570442</td>\n",
              "    </tr>\n",
              "    <tr>\n",
              "      <th>recall_macro</th>\n",
              "      <td>0.571022</td>\n",
              "    </tr>\n",
              "    <tr>\n",
              "      <th>confusion_matrix</th>\n",
              "      <td>[[2674, 636, 94, 23, 60], [746, 1469, 581, 118...</td>\n",
              "    </tr>\n",
              "    <tr>\n",
              "      <th>f1_score</th>\n",
              "      <td>0.570444</td>\n",
              "    </tr>\n",
              "    <tr>\n",
              "      <th>y_true</th>\n",
              "      <td>[0, 4, 1, 4, 4, 0, 1, 2, 4, 2, 1, 1, 1, 2, 4, ...</td>\n",
              "    </tr>\n",
              "    <tr>\n",
              "      <th>y_pred</th>\n",
              "      <td>[4, 4, 2, 0, 4, 0, 1, 1, 4, 3, 1, 1, 2, 3, 3, ...</td>\n",
              "    </tr>\n",
              "  </tbody>\n",
              "</table>\n",
              "</div>"
            ],
            "text/plain": [
              "                                 Architecture class: MLP | setup: 4\n",
              "accuracy                                                   0.576733\n",
              "precision_macro                                            0.570442\n",
              "recall_macro                                               0.571022\n",
              "confusion_matrix  [[2674, 636, 94, 23, 60], [746, 1469, 581, 118...\n",
              "f1_score                                                   0.570444\n",
              "y_true            [0, 4, 1, 4, 4, 0, 1, 2, 4, 2, 1, 1, 1, 2, 4, ...\n",
              "y_pred            [4, 4, 2, 0, 4, 0, 1, 1, 4, 3, 1, 1, 2, 3, 3, ..."
            ]
          },
          "execution_count": 21,
          "metadata": {},
          "output_type": "execute_result"
        }
      ],
      "source": [
        "df = pd.DataFrame(best)\n",
        "df"
      ]
    },
    {
      "cell_type": "markdown",
      "metadata": {},
      "source": [
        "Najlepszy wynik f1_score osiągnął model z setupu 4: \n",
        "```[\n",
        "        {\"linear\": (INPUT_SIZE, 128), \"relu\": True},\n",
        "        {\"dropout\": 0.3, \"linear\": (128, 64), \"relu\": True},\n",
        "        {\"dropout\": 0.3, \"linear\": (64, 5)}\n",
        "\n",
        "Co warto zauważyć drugi najlepszy wynik został osiągnięty przez identyczną architekturę jedynie bez dropoutu. \n",
        "\n",
        "Kontynuujemy eksperymenty wykorzystując tą architekturę."
      ]
    },
    {
      "cell_type": "markdown",
      "metadata": {},
      "source": [
        "## 2. Porównanie różnych parametrów TF-IDF oraz SVD"
      ]
    },
    {
      "cell_type": "code",
      "execution_count": 22,
      "metadata": {},
      "outputs": [],
      "source": [
        "def adjust_input_dim(base_arch, input_dim):\n",
        "    _, out_dim = base_arch[0][\"linear\"]\n",
        "    base_arch[0][\"linear\"] = (input_dim, out_dim)\n",
        "    return base_arch"
      ]
    },
    {
      "cell_type": "code",
      "execution_count": 23,
      "metadata": {},
      "outputs": [],
      "source": [
        "def tune_text_pipeline_for_architecture(\n",
        "    base_arch,\n",
        "    tfidf_grid,\n",
        "    svd_components_grid,\n",
        "    training_setup,\n",
        "    batch_size,\n",
        "    num_workers,\n",
        "    device,\n",
        "    best_metric,\n",
        "    project_name=\"LLM_lab1\",\n",
        "    group_name=\"tfidf_svd_search\",\n",
        "):\n",
        "    results = []\n",
        "    best = None\n",
        "    best_metric_value = -1\n",
        "\n",
        "    for tfidf_params, n_comp in product(tfidf_grid, svd_components_grid):\n",
        "        vectorizer, svd, loaders = make_loaders_from_text(\n",
        "            vectorizer_params=tfidf_params,\n",
        "            svd_components=n_comp,\n",
        "            batch_size=batch_size,\n",
        "            num_workers=num_workers,\n",
        "            pin_memory=True,\n",
        "        )\n",
        "        tr_loader, va_loader, _ = loaders\n",
        "\n",
        "        arch = adjust_input_dim(base_arch, input_dim=n_comp)\n",
        "        model = MLP(arch).to(device)\n",
        "\n",
        "        config = dict(\n",
        "            epochs=training_setup[\"epochs\"],\n",
        "            optim_type=training_setup[\"optim_type\"],\n",
        "            optim_params=training_setup[\"optim_params\"],\n",
        "            criterion=str(training_setup[\"criterion\"]),\n",
        "            batch_size=getattr(tr_loader, \"batch_size\", None),\n",
        "            device=str(device),\n",
        "            tfidf_params=tfidf_params,\n",
        "            svd_components=n_comp,\n",
        "        )\n",
        "\n",
        "        run_name = f\"TFIDF:{tfidf_params}|SVD:{n_comp}\"\n",
        "        print(f\"[Search] {run_name}\")\n",
        "        _, run = train(\n",
        "            tr_loader,\n",
        "            va_loader,\n",
        "            model,\n",
        "            training_setup[\"epochs\"],\n",
        "            training_setup[\"optim_type\"],\n",
        "            training_setup[\"optim_params\"],\n",
        "            training_setup[\"criterion\"],\n",
        "            device,\n",
        "            project_name,\n",
        "            group_name,\n",
        "            run_name,\n",
        "            config,\n",
        "        )\n",
        "\n",
        "        val_metrics = evaluate(model, va_loader, device)\n",
        "        train_metrics = evaluate(model, tr_loader, device)\n",
        "\n",
        "        record = {\n",
        "            \"tfidf\": tfidf_params,\n",
        "            \"svd_components\": n_comp,\n",
        "            \"train\": train_metrics,\n",
        "            \"val\": val_metrics,\n",
        "            \"model\": model,\n",
        "            \"vectorizer\": vectorizer,\n",
        "            \"svd\": svd,\n",
        "            \"loaders\": loaders,\n",
        "        }\n",
        "        results.append(record)\n",
        "\n",
        "        if val_metrics[best_metric] > best_metric_value:\n",
        "            best = {run_name: val_metrics}\n",
        "\n",
        "        wandb.finish()\n",
        "\n",
        "    return results, best"
      ]
    },
    {
      "cell_type": "code",
      "execution_count": 24,
      "metadata": {
        "id": "fifOwsXEXGvJ"
      },
      "outputs": [],
      "source": [
        "tfidf_grid = [\n",
        "    {\"max_features\": 30000, \"min_df\": 2, \"max_df\": 0.95, \"ngram_range\": (1,1)},\n",
        "    {\"max_features\": 60000, \"min_df\": 2, \"max_df\": 0.95, \"ngram_range\": (1,1)},\n",
        "    {\"max_features\": None,  \"min_df\": 5, \"max_df\": 0.90, \"ngram_range\": (1,2)},\n",
        "]\n",
        "svd_components_grid = [128, 300, 512]"
      ]
    },
    {
      "cell_type": "code",
      "execution_count": 26,
      "metadata": {},
      "outputs": [
        {
          "name": "stdout",
          "output_type": "stream",
          "text": [
            "[Search] TFIDF:{'max_features': 30000, 'min_df': 2, 'max_df': 0.95, 'ngram_range': (1, 1)}|SVD:128\n"
          ]
        },
        {
          "data": {
            "text/html": [],
            "text/plain": [
              "<IPython.core.display.HTML object>"
            ]
          },
          "metadata": {},
          "output_type": "display_data"
        },
        {
          "data": {
            "text/html": [
              "Tracking run with wandb version 0.22.2"
            ],
            "text/plain": [
              "<IPython.core.display.HTML object>"
            ]
          },
          "metadata": {},
          "output_type": "display_data"
        },
        {
          "data": {
            "text/html": [
              "Run data is saved locally in <code>/home/atarsander/University/LLM/lab1/wandb/run-20251028_133602-h7qd7ceb</code>"
            ],
            "text/plain": [
              "<IPython.core.display.HTML object>"
            ]
          },
          "metadata": {},
          "output_type": "display_data"
        },
        {
          "data": {
            "text/html": [
              "Syncing run <strong><a href='https://wandb.ai/atarsander-warsaw-university-of-technology/LLM_lab1/runs/h7qd7ceb' target=\"_blank\">TFIDF:{'max_features': 30000, 'min_df': 2, 'max_df': 0.95, 'ngram_range': (1, 1)}|SVD:128</a></strong> to <a href='https://wandb.ai/atarsander-warsaw-university-of-technology/LLM_lab1' target=\"_blank\">Weights & Biases</a> (<a href='https://wandb.me/developer-guide' target=\"_blank\">docs</a>)<br>"
            ],
            "text/plain": [
              "<IPython.core.display.HTML object>"
            ]
          },
          "metadata": {},
          "output_type": "display_data"
        },
        {
          "data": {
            "text/html": [
              " View project at <a href='https://wandb.ai/atarsander-warsaw-university-of-technology/LLM_lab1' target=\"_blank\">https://wandb.ai/atarsander-warsaw-university-of-technology/LLM_lab1</a>"
            ],
            "text/plain": [
              "<IPython.core.display.HTML object>"
            ]
          },
          "metadata": {},
          "output_type": "display_data"
        },
        {
          "data": {
            "text/html": [
              " View run at <a href='https://wandb.ai/atarsander-warsaw-university-of-technology/LLM_lab1/runs/h7qd7ceb' target=\"_blank\">https://wandb.ai/atarsander-warsaw-university-of-technology/LLM_lab1/runs/h7qd7ceb</a>"
            ],
            "text/plain": [
              "<IPython.core.display.HTML object>"
            ]
          },
          "metadata": {},
          "output_type": "display_data"
        },
        {
          "data": {
            "text/html": [],
            "text/plain": [
              "<IPython.core.display.HTML object>"
            ]
          },
          "metadata": {},
          "output_type": "display_data"
        },
        {
          "data": {
            "text/html": [
              "<br>    <style><br>        .wandb-row {<br>            display: flex;<br>            flex-direction: row;<br>            flex-wrap: wrap;<br>            justify-content: flex-start;<br>            width: 100%;<br>        }<br>        .wandb-col {<br>            display: flex;<br>            flex-direction: column;<br>            flex-basis: 100%;<br>            flex: 1;<br>            padding: 10px;<br>        }<br>    </style><br><div class=\"wandb-row\"><div class=\"wandb-col\"><h3>Run history:</h3><br/><table class=\"wandb\"><tr><td>epoch</td><td>▁▁▁▂▂▂▂▂▂▃▃▃▃▃▄▄▄▄▄▅▅▅▅▅▅▆▆▆▆▆▇▇▇▇▇▇▇███</td></tr><tr><td>train/loss</td><td>█▃▂▂▂▂▂▂▂▂▂▂▂▁▁▁▁▁▁▁▁▁▁▁▁</td></tr><tr><td>val/accuracy</td><td>▁▃▄▄▄▄▅▅▅▆▆▆▆▇▇▇▇▇▇██████</td></tr><tr><td>val/f1_score</td><td>▁▃▄▄▅▅▆▅▆▆▇▇▇▇▇▇▇▇██████▇</td></tr><tr><td>val/precision</td><td>▁▃▄▄▄▅▅▅▅▆▇▇▇▇▇▇▇▇██████▇</td></tr><tr><td>val/recall</td><td>▁▃▄▄▄▅▅▅▅▆▇▇▆▇▇▇▇▇▇██████</td></tr></table><br/></div><div class=\"wandb-col\"><h3>Run summary:</h3><br/><table class=\"wandb\"><tr><td>epoch</td><td>24</td></tr><tr><td>train/loss</td><td>1.0213</td></tr><tr><td>val/accuracy</td><td>0.5586</td></tr><tr><td>val/f1_score</td><td>0.54866</td></tr><tr><td>val/precision</td><td>0.54791</td></tr><tr><td>val/recall</td><td>0.5518</td></tr></table><br/></div></div>"
            ],
            "text/plain": [
              "<IPython.core.display.HTML object>"
            ]
          },
          "metadata": {},
          "output_type": "display_data"
        },
        {
          "data": {
            "text/html": [
              " View run <strong style=\"color:#cdcd00\">TFIDF:{'max_features': 30000, 'min_df': 2, 'max_df': 0.95, 'ngram_range': (1, 1)}|SVD:128</strong> at: <a href='https://wandb.ai/atarsander-warsaw-university-of-technology/LLM_lab1/runs/h7qd7ceb' target=\"_blank\">https://wandb.ai/atarsander-warsaw-university-of-technology/LLM_lab1/runs/h7qd7ceb</a><br> View project at: <a href='https://wandb.ai/atarsander-warsaw-university-of-technology/LLM_lab1' target=\"_blank\">https://wandb.ai/atarsander-warsaw-university-of-technology/LLM_lab1</a><br>Synced 5 W&B file(s), 25 media file(s), 50 artifact file(s) and 0 other file(s)"
            ],
            "text/plain": [
              "<IPython.core.display.HTML object>"
            ]
          },
          "metadata": {},
          "output_type": "display_data"
        },
        {
          "data": {
            "text/html": [
              "Find logs at: <code>./wandb/run-20251028_133602-h7qd7ceb/logs</code>"
            ],
            "text/plain": [
              "<IPython.core.display.HTML object>"
            ]
          },
          "metadata": {},
          "output_type": "display_data"
        },
        {
          "name": "stdout",
          "output_type": "stream",
          "text": [
            "[Search] TFIDF:{'max_features': 30000, 'min_df': 2, 'max_df': 0.95, 'ngram_range': (1, 1)}|SVD:300\n"
          ]
        },
        {
          "data": {
            "text/html": [],
            "text/plain": [
              "<IPython.core.display.HTML object>"
            ]
          },
          "metadata": {},
          "output_type": "display_data"
        },
        {
          "data": {
            "text/html": [
              "Tracking run with wandb version 0.22.2"
            ],
            "text/plain": [
              "<IPython.core.display.HTML object>"
            ]
          },
          "metadata": {},
          "output_type": "display_data"
        },
        {
          "data": {
            "text/html": [
              "Run data is saved locally in <code>/home/atarsander/University/LLM/lab1/wandb/run-20251028_133715-yd595fnt</code>"
            ],
            "text/plain": [
              "<IPython.core.display.HTML object>"
            ]
          },
          "metadata": {},
          "output_type": "display_data"
        },
        {
          "data": {
            "text/html": [
              "Syncing run <strong><a href='https://wandb.ai/atarsander-warsaw-university-of-technology/LLM_lab1/runs/yd595fnt' target=\"_blank\">TFIDF:{'max_features': 30000, 'min_df': 2, 'max_df': 0.95, 'ngram_range': (1, 1)}|SVD:300</a></strong> to <a href='https://wandb.ai/atarsander-warsaw-university-of-technology/LLM_lab1' target=\"_blank\">Weights & Biases</a> (<a href='https://wandb.me/developer-guide' target=\"_blank\">docs</a>)<br>"
            ],
            "text/plain": [
              "<IPython.core.display.HTML object>"
            ]
          },
          "metadata": {},
          "output_type": "display_data"
        },
        {
          "data": {
            "text/html": [
              " View project at <a href='https://wandb.ai/atarsander-warsaw-university-of-technology/LLM_lab1' target=\"_blank\">https://wandb.ai/atarsander-warsaw-university-of-technology/LLM_lab1</a>"
            ],
            "text/plain": [
              "<IPython.core.display.HTML object>"
            ]
          },
          "metadata": {},
          "output_type": "display_data"
        },
        {
          "data": {
            "text/html": [
              " View run at <a href='https://wandb.ai/atarsander-warsaw-university-of-technology/LLM_lab1/runs/yd595fnt' target=\"_blank\">https://wandb.ai/atarsander-warsaw-university-of-technology/LLM_lab1/runs/yd595fnt</a>"
            ],
            "text/plain": [
              "<IPython.core.display.HTML object>"
            ]
          },
          "metadata": {},
          "output_type": "display_data"
        },
        {
          "data": {
            "text/html": [],
            "text/plain": [
              "<IPython.core.display.HTML object>"
            ]
          },
          "metadata": {},
          "output_type": "display_data"
        },
        {
          "data": {
            "text/html": [
              "<br>    <style><br>        .wandb-row {<br>            display: flex;<br>            flex-direction: row;<br>            flex-wrap: wrap;<br>            justify-content: flex-start;<br>            width: 100%;<br>        }<br>        .wandb-col {<br>            display: flex;<br>            flex-direction: column;<br>            flex-basis: 100%;<br>            flex: 1;<br>            padding: 10px;<br>        }<br>    </style><br><div class=\"wandb-row\"><div class=\"wandb-col\"><h3>Run history:</h3><br/><table class=\"wandb\"><tr><td>epoch</td><td>▁▁▁▂▂▂▂▂▂▂▃▃▃▃▃▄▄▄▄▄▅▅▅▅▅▆▆▆▆▆▇▇▇▇▇▇▇███</td></tr><tr><td>train/loss</td><td>█▃▃▃▂▂▂▂▂▂▂▂▂▂▂▂▂▁▁▁▁▁▁▁▁</td></tr><tr><td>val/accuracy</td><td>▁▂▃▄▄▅▅▅▅▆▆▆▆▆▆▇▆▇█▇▇██▇█</td></tr><tr><td>val/f1_score</td><td>▁▂▃▄▃▅▅▅▅▆▅▆▆▆▇▆▇▇█▇▇██▇█</td></tr><tr><td>val/precision</td><td>▁▂▃▄▃▅▅▅▆▆▅▆▆▆▇▆▇███▇██▆█</td></tr><tr><td>val/recall</td><td>▁▂▃▃▄▅▅▅▅▆▅▅▆▆▆▆▆▇█▇▇█▇▇█</td></tr></table><br/></div><div class=\"wandb-col\"><h3>Run summary:</h3><br/><table class=\"wandb\"><tr><td>epoch</td><td>24</td></tr><tr><td>train/loss</td><td>0.942</td></tr><tr><td>val/accuracy</td><td>0.57793</td></tr><tr><td>val/f1_score</td><td>0.56927</td></tr><tr><td>val/precision</td><td>0.56834</td></tr><tr><td>val/recall</td><td>0.5718</td></tr></table><br/></div></div>"
            ],
            "text/plain": [
              "<IPython.core.display.HTML object>"
            ]
          },
          "metadata": {},
          "output_type": "display_data"
        },
        {
          "data": {
            "text/html": [
              " View run <strong style=\"color:#cdcd00\">TFIDF:{'max_features': 30000, 'min_df': 2, 'max_df': 0.95, 'ngram_range': (1, 1)}|SVD:300</strong> at: <a href='https://wandb.ai/atarsander-warsaw-university-of-technology/LLM_lab1/runs/yd595fnt' target=\"_blank\">https://wandb.ai/atarsander-warsaw-university-of-technology/LLM_lab1/runs/yd595fnt</a><br> View project at: <a href='https://wandb.ai/atarsander-warsaw-university-of-technology/LLM_lab1' target=\"_blank\">https://wandb.ai/atarsander-warsaw-university-of-technology/LLM_lab1</a><br>Synced 5 W&B file(s), 25 media file(s), 50 artifact file(s) and 0 other file(s)"
            ],
            "text/plain": [
              "<IPython.core.display.HTML object>"
            ]
          },
          "metadata": {},
          "output_type": "display_data"
        },
        {
          "data": {
            "text/html": [
              "Find logs at: <code>./wandb/run-20251028_133715-yd595fnt/logs</code>"
            ],
            "text/plain": [
              "<IPython.core.display.HTML object>"
            ]
          },
          "metadata": {},
          "output_type": "display_data"
        },
        {
          "name": "stdout",
          "output_type": "stream",
          "text": [
            "[Search] TFIDF:{'max_features': 30000, 'min_df': 2, 'max_df': 0.95, 'ngram_range': (1, 1)}|SVD:512\n"
          ]
        },
        {
          "data": {
            "text/html": [],
            "text/plain": [
              "<IPython.core.display.HTML object>"
            ]
          },
          "metadata": {},
          "output_type": "display_data"
        },
        {
          "data": {
            "text/html": [
              "Tracking run with wandb version 0.22.2"
            ],
            "text/plain": [
              "<IPython.core.display.HTML object>"
            ]
          },
          "metadata": {},
          "output_type": "display_data"
        },
        {
          "data": {
            "text/html": [
              "Run data is saved locally in <code>/home/atarsander/University/LLM/lab1/wandb/run-20251028_133837-2c1p1h2w</code>"
            ],
            "text/plain": [
              "<IPython.core.display.HTML object>"
            ]
          },
          "metadata": {},
          "output_type": "display_data"
        },
        {
          "data": {
            "text/html": [
              "Syncing run <strong><a href='https://wandb.ai/atarsander-warsaw-university-of-technology/LLM_lab1/runs/2c1p1h2w' target=\"_blank\">TFIDF:{'max_features': 30000, 'min_df': 2, 'max_df': 0.95, 'ngram_range': (1, 1)}|SVD:512</a></strong> to <a href='https://wandb.ai/atarsander-warsaw-university-of-technology/LLM_lab1' target=\"_blank\">Weights & Biases</a> (<a href='https://wandb.me/developer-guide' target=\"_blank\">docs</a>)<br>"
            ],
            "text/plain": [
              "<IPython.core.display.HTML object>"
            ]
          },
          "metadata": {},
          "output_type": "display_data"
        },
        {
          "data": {
            "text/html": [
              " View project at <a href='https://wandb.ai/atarsander-warsaw-university-of-technology/LLM_lab1' target=\"_blank\">https://wandb.ai/atarsander-warsaw-university-of-technology/LLM_lab1</a>"
            ],
            "text/plain": [
              "<IPython.core.display.HTML object>"
            ]
          },
          "metadata": {},
          "output_type": "display_data"
        },
        {
          "data": {
            "text/html": [
              " View run at <a href='https://wandb.ai/atarsander-warsaw-university-of-technology/LLM_lab1/runs/2c1p1h2w' target=\"_blank\">https://wandb.ai/atarsander-warsaw-university-of-technology/LLM_lab1/runs/2c1p1h2w</a>"
            ],
            "text/plain": [
              "<IPython.core.display.HTML object>"
            ]
          },
          "metadata": {},
          "output_type": "display_data"
        },
        {
          "data": {
            "text/html": [],
            "text/plain": [
              "<IPython.core.display.HTML object>"
            ]
          },
          "metadata": {},
          "output_type": "display_data"
        },
        {
          "data": {
            "text/html": [
              "<br>    <style><br>        .wandb-row {<br>            display: flex;<br>            flex-direction: row;<br>            flex-wrap: wrap;<br>            justify-content: flex-start;<br>            width: 100%;<br>        }<br>        .wandb-col {<br>            display: flex;<br>            flex-direction: column;<br>            flex-basis: 100%;<br>            flex: 1;<br>            padding: 10px;<br>        }<br>    </style><br><div class=\"wandb-row\"><div class=\"wandb-col\"><h3>Run history:</h3><br/><table class=\"wandb\"><tr><td>epoch</td><td>▁▁▁▁▂▂▂▂▂▂▃▃▃▃▃▄▄▄▄▄▅▅▅▅▅▅▆▆▆▆▆▇▇▇▇▇▇▇██</td></tr><tr><td>train/loss</td><td>█▃▃▃▃▃▃▂▂▂▂▂▂▂▂▂▂▂▂▁▁▁▁▁▁</td></tr><tr><td>val/accuracy</td><td>▁▃▃▄▄▅▅▅▅▆▅▆▆▇▇▆▇▇▇▇▇▇▇██</td></tr><tr><td>val/f1_score</td><td>▁▃▃▄▅▅▅▆▆▆▆▆▇▇▇▆▇▇▇▇▇███▇</td></tr><tr><td>val/precision</td><td>▁▃▃▄▅▅▅▆▅▆▅▆▆▆▇▆▇▇▇▇▇█▇▇▇</td></tr><tr><td>val/recall</td><td>▁▃▃▄▄▅▅▆▅▆▅▆▆▆▇▆▇▇▇▇█▇▇██</td></tr></table><br/></div><div class=\"wandb-col\"><h3>Run summary:</h3><br/><table class=\"wandb\"><tr><td>epoch</td><td>24</td></tr><tr><td>train/loss</td><td>0.88877</td></tr><tr><td>val/accuracy</td><td>0.58327</td></tr><tr><td>val/f1_score</td><td>0.57464</td></tr><tr><td>val/precision</td><td>0.57378</td></tr><tr><td>val/recall</td><td>0.57721</td></tr></table><br/></div></div>"
            ],
            "text/plain": [
              "<IPython.core.display.HTML object>"
            ]
          },
          "metadata": {},
          "output_type": "display_data"
        },
        {
          "data": {
            "text/html": [
              " View run <strong style=\"color:#cdcd00\">TFIDF:{'max_features': 30000, 'min_df': 2, 'max_df': 0.95, 'ngram_range': (1, 1)}|SVD:512</strong> at: <a href='https://wandb.ai/atarsander-warsaw-university-of-technology/LLM_lab1/runs/2c1p1h2w' target=\"_blank\">https://wandb.ai/atarsander-warsaw-university-of-technology/LLM_lab1/runs/2c1p1h2w</a><br> View project at: <a href='https://wandb.ai/atarsander-warsaw-university-of-technology/LLM_lab1' target=\"_blank\">https://wandb.ai/atarsander-warsaw-university-of-technology/LLM_lab1</a><br>Synced 5 W&B file(s), 25 media file(s), 50 artifact file(s) and 0 other file(s)"
            ],
            "text/plain": [
              "<IPython.core.display.HTML object>"
            ]
          },
          "metadata": {},
          "output_type": "display_data"
        },
        {
          "data": {
            "text/html": [
              "Find logs at: <code>./wandb/run-20251028_133837-2c1p1h2w/logs</code>"
            ],
            "text/plain": [
              "<IPython.core.display.HTML object>"
            ]
          },
          "metadata": {},
          "output_type": "display_data"
        },
        {
          "name": "stdout",
          "output_type": "stream",
          "text": [
            "[Search] TFIDF:{'max_features': 60000, 'min_df': 2, 'max_df': 0.95, 'ngram_range': (1, 1)}|SVD:128\n"
          ]
        },
        {
          "data": {
            "text/html": [],
            "text/plain": [
              "<IPython.core.display.HTML object>"
            ]
          },
          "metadata": {},
          "output_type": "display_data"
        },
        {
          "data": {
            "text/html": [
              "Tracking run with wandb version 0.22.2"
            ],
            "text/plain": [
              "<IPython.core.display.HTML object>"
            ]
          },
          "metadata": {},
          "output_type": "display_data"
        },
        {
          "data": {
            "text/html": [
              "Run data is saved locally in <code>/home/atarsander/University/LLM/lab1/wandb/run-20251028_133949-kcmw5ucl</code>"
            ],
            "text/plain": [
              "<IPython.core.display.HTML object>"
            ]
          },
          "metadata": {},
          "output_type": "display_data"
        },
        {
          "data": {
            "text/html": [
              "Syncing run <strong><a href='https://wandb.ai/atarsander-warsaw-university-of-technology/LLM_lab1/runs/kcmw5ucl' target=\"_blank\">TFIDF:{'max_features': 60000, 'min_df': 2, 'max_df': 0.95, 'ngram_range': (1, 1)}|SVD:128</a></strong> to <a href='https://wandb.ai/atarsander-warsaw-university-of-technology/LLM_lab1' target=\"_blank\">Weights & Biases</a> (<a href='https://wandb.me/developer-guide' target=\"_blank\">docs</a>)<br>"
            ],
            "text/plain": [
              "<IPython.core.display.HTML object>"
            ]
          },
          "metadata": {},
          "output_type": "display_data"
        },
        {
          "data": {
            "text/html": [
              " View project at <a href='https://wandb.ai/atarsander-warsaw-university-of-technology/LLM_lab1' target=\"_blank\">https://wandb.ai/atarsander-warsaw-university-of-technology/LLM_lab1</a>"
            ],
            "text/plain": [
              "<IPython.core.display.HTML object>"
            ]
          },
          "metadata": {},
          "output_type": "display_data"
        },
        {
          "data": {
            "text/html": [
              " View run at <a href='https://wandb.ai/atarsander-warsaw-university-of-technology/LLM_lab1/runs/kcmw5ucl' target=\"_blank\">https://wandb.ai/atarsander-warsaw-university-of-technology/LLM_lab1/runs/kcmw5ucl</a>"
            ],
            "text/plain": [
              "<IPython.core.display.HTML object>"
            ]
          },
          "metadata": {},
          "output_type": "display_data"
        },
        {
          "data": {
            "text/html": [],
            "text/plain": [
              "<IPython.core.display.HTML object>"
            ]
          },
          "metadata": {},
          "output_type": "display_data"
        },
        {
          "data": {
            "text/html": [
              "<br>    <style><br>        .wandb-row {<br>            display: flex;<br>            flex-direction: row;<br>            flex-wrap: wrap;<br>            justify-content: flex-start;<br>            width: 100%;<br>        }<br>        .wandb-col {<br>            display: flex;<br>            flex-direction: column;<br>            flex-basis: 100%;<br>            flex: 1;<br>            padding: 10px;<br>        }<br>    </style><br><div class=\"wandb-row\"><div class=\"wandb-col\"><h3>Run history:</h3><br/><table class=\"wandb\"><tr><td>epoch</td><td>▁▁▁▁▂▂▂▂▂▂▃▃▃▃▃▄▄▄▄▄▅▅▅▅▅▅▅▆▆▆▆▆▇▇▇▇▇▇██</td></tr><tr><td>train/loss</td><td>█▃▂▂▂▂▂▂▂▂▂▂▂▂▁▁▁▁▁▁▁▁▁▁▁</td></tr><tr><td>val/accuracy</td><td>▁▃▄▃▄▄▅▅▅▆▆▆▆▇▇▇▇▇█▇██▇▇▇</td></tr><tr><td>val/f1_score</td><td>▁▂▃▃▄▅▅▄▅▆▇▆▇▇█▇███▇██▇██</td></tr><tr><td>val/precision</td><td>▁▁▂▃▃▄▄▄▄▅▇▆▇▇█▇███▇█▇▇█▇</td></tr><tr><td>val/recall</td><td>▁▃▄▃▄▄▅▅▅▆▆▆▇▇▇▇▇▇█▇██▇▇▇</td></tr></table><br/></div><div class=\"wandb-col\"><h3>Run summary:</h3><br/><table class=\"wandb\"><tr><td>epoch</td><td>24</td></tr><tr><td>train/loss</td><td>1.01697</td></tr><tr><td>val/accuracy</td><td>0.55667</td></tr><tr><td>val/f1_score</td><td>0.54895</td></tr><tr><td>val/precision</td><td>0.54761</td></tr><tr><td>val/recall</td><td>0.55119</td></tr></table><br/></div></div>"
            ],
            "text/plain": [
              "<IPython.core.display.HTML object>"
            ]
          },
          "metadata": {},
          "output_type": "display_data"
        },
        {
          "data": {
            "text/html": [
              " View run <strong style=\"color:#cdcd00\">TFIDF:{'max_features': 60000, 'min_df': 2, 'max_df': 0.95, 'ngram_range': (1, 1)}|SVD:128</strong> at: <a href='https://wandb.ai/atarsander-warsaw-university-of-technology/LLM_lab1/runs/kcmw5ucl' target=\"_blank\">https://wandb.ai/atarsander-warsaw-university-of-technology/LLM_lab1/runs/kcmw5ucl</a><br> View project at: <a href='https://wandb.ai/atarsander-warsaw-university-of-technology/LLM_lab1' target=\"_blank\">https://wandb.ai/atarsander-warsaw-university-of-technology/LLM_lab1</a><br>Synced 5 W&B file(s), 25 media file(s), 50 artifact file(s) and 0 other file(s)"
            ],
            "text/plain": [
              "<IPython.core.display.HTML object>"
            ]
          },
          "metadata": {},
          "output_type": "display_data"
        },
        {
          "data": {
            "text/html": [
              "Find logs at: <code>./wandb/run-20251028_133949-kcmw5ucl/logs</code>"
            ],
            "text/plain": [
              "<IPython.core.display.HTML object>"
            ]
          },
          "metadata": {},
          "output_type": "display_data"
        },
        {
          "name": "stdout",
          "output_type": "stream",
          "text": [
            "[Search] TFIDF:{'max_features': 60000, 'min_df': 2, 'max_df': 0.95, 'ngram_range': (1, 1)}|SVD:300\n"
          ]
        },
        {
          "data": {
            "text/html": [],
            "text/plain": [
              "<IPython.core.display.HTML object>"
            ]
          },
          "metadata": {},
          "output_type": "display_data"
        },
        {
          "data": {
            "text/html": [
              "Tracking run with wandb version 0.22.2"
            ],
            "text/plain": [
              "<IPython.core.display.HTML object>"
            ]
          },
          "metadata": {},
          "output_type": "display_data"
        },
        {
          "data": {
            "text/html": [
              "Run data is saved locally in <code>/home/atarsander/University/LLM/lab1/wandb/run-20251028_134105-9kqrhjjn</code>"
            ],
            "text/plain": [
              "<IPython.core.display.HTML object>"
            ]
          },
          "metadata": {},
          "output_type": "display_data"
        },
        {
          "data": {
            "text/html": [
              "Syncing run <strong><a href='https://wandb.ai/atarsander-warsaw-university-of-technology/LLM_lab1/runs/9kqrhjjn' target=\"_blank\">TFIDF:{'max_features': 60000, 'min_df': 2, 'max_df': 0.95, 'ngram_range': (1, 1)}|SVD:300</a></strong> to <a href='https://wandb.ai/atarsander-warsaw-university-of-technology/LLM_lab1' target=\"_blank\">Weights & Biases</a> (<a href='https://wandb.me/developer-guide' target=\"_blank\">docs</a>)<br>"
            ],
            "text/plain": [
              "<IPython.core.display.HTML object>"
            ]
          },
          "metadata": {},
          "output_type": "display_data"
        },
        {
          "data": {
            "text/html": [
              " View project at <a href='https://wandb.ai/atarsander-warsaw-university-of-technology/LLM_lab1' target=\"_blank\">https://wandb.ai/atarsander-warsaw-university-of-technology/LLM_lab1</a>"
            ],
            "text/plain": [
              "<IPython.core.display.HTML object>"
            ]
          },
          "metadata": {},
          "output_type": "display_data"
        },
        {
          "data": {
            "text/html": [
              " View run at <a href='https://wandb.ai/atarsander-warsaw-university-of-technology/LLM_lab1/runs/9kqrhjjn' target=\"_blank\">https://wandb.ai/atarsander-warsaw-university-of-technology/LLM_lab1/runs/9kqrhjjn</a>"
            ],
            "text/plain": [
              "<IPython.core.display.HTML object>"
            ]
          },
          "metadata": {},
          "output_type": "display_data"
        },
        {
          "data": {
            "text/html": [],
            "text/plain": [
              "<IPython.core.display.HTML object>"
            ]
          },
          "metadata": {},
          "output_type": "display_data"
        },
        {
          "data": {
            "text/html": [
              "<br>    <style><br>        .wandb-row {<br>            display: flex;<br>            flex-direction: row;<br>            flex-wrap: wrap;<br>            justify-content: flex-start;<br>            width: 100%;<br>        }<br>        .wandb-col {<br>            display: flex;<br>            flex-direction: column;<br>            flex-basis: 100%;<br>            flex: 1;<br>            padding: 10px;<br>        }<br>    </style><br><div class=\"wandb-row\"><div class=\"wandb-col\"><h3>Run history:</h3><br/><table class=\"wandb\"><tr><td>epoch</td><td>▁▁▁▁▂▂▂▂▂▂▃▃▃▃▃▄▄▄▄▄▅▅▅▅▅▆▆▆▆▆▇▇▇▇▇▇▇███</td></tr><tr><td>train/loss</td><td>█▃▃▃▂▂▂▂▂▂▂▂▂▂▂▂▂▁▁▁▁▁▁▁▁</td></tr><tr><td>val/accuracy</td><td>▁▄▄▅▅▅▆▆▆▆▆▇▇▇▇▇▇▇███████</td></tr><tr><td>val/f1_score</td><td>▁▄▄▅▆▆▆▆▇▆▇▇▇▇▇▇▇▇▇▇█▇██▇</td></tr><tr><td>val/precision</td><td>▁▄▄▅▅▅▆▆▇▆▇▆▆▇▇▇▇▆▇▇█▇██▇</td></tr><tr><td>val/recall</td><td>▁▄▄▅▅▅▆▆▆▆▇▇▇▇▇▇▇▇███████</td></tr></table><br/></div><div class=\"wandb-col\"><h3>Run summary:</h3><br/><table class=\"wandb\"><tr><td>epoch</td><td>24</td></tr><tr><td>train/loss</td><td>0.94016</td></tr><tr><td>val/accuracy</td><td>0.57833</td></tr><tr><td>val/f1_score</td><td>0.56908</td></tr><tr><td>val/precision</td><td>0.56811</td></tr><tr><td>val/recall</td><td>0.57275</td></tr></table><br/></div></div>"
            ],
            "text/plain": [
              "<IPython.core.display.HTML object>"
            ]
          },
          "metadata": {},
          "output_type": "display_data"
        },
        {
          "data": {
            "text/html": [
              " View run <strong style=\"color:#cdcd00\">TFIDF:{'max_features': 60000, 'min_df': 2, 'max_df': 0.95, 'ngram_range': (1, 1)}|SVD:300</strong> at: <a href='https://wandb.ai/atarsander-warsaw-university-of-technology/LLM_lab1/runs/9kqrhjjn' target=\"_blank\">https://wandb.ai/atarsander-warsaw-university-of-technology/LLM_lab1/runs/9kqrhjjn</a><br> View project at: <a href='https://wandb.ai/atarsander-warsaw-university-of-technology/LLM_lab1' target=\"_blank\">https://wandb.ai/atarsander-warsaw-university-of-technology/LLM_lab1</a><br>Synced 5 W&B file(s), 25 media file(s), 50 artifact file(s) and 0 other file(s)"
            ],
            "text/plain": [
              "<IPython.core.display.HTML object>"
            ]
          },
          "metadata": {},
          "output_type": "display_data"
        },
        {
          "data": {
            "text/html": [
              "Find logs at: <code>./wandb/run-20251028_134105-9kqrhjjn/logs</code>"
            ],
            "text/plain": [
              "<IPython.core.display.HTML object>"
            ]
          },
          "metadata": {},
          "output_type": "display_data"
        },
        {
          "name": "stdout",
          "output_type": "stream",
          "text": [
            "[Search] TFIDF:{'max_features': 60000, 'min_df': 2, 'max_df': 0.95, 'ngram_range': (1, 1)}|SVD:512\n"
          ]
        },
        {
          "data": {
            "text/html": [],
            "text/plain": [
              "<IPython.core.display.HTML object>"
            ]
          },
          "metadata": {},
          "output_type": "display_data"
        },
        {
          "data": {
            "text/html": [
              "Tracking run with wandb version 0.22.2"
            ],
            "text/plain": [
              "<IPython.core.display.HTML object>"
            ]
          },
          "metadata": {},
          "output_type": "display_data"
        },
        {
          "data": {
            "text/html": [
              "Run data is saved locally in <code>/home/atarsander/University/LLM/lab1/wandb/run-20251028_134229-ftpwj9s1</code>"
            ],
            "text/plain": [
              "<IPython.core.display.HTML object>"
            ]
          },
          "metadata": {},
          "output_type": "display_data"
        },
        {
          "data": {
            "text/html": [
              "Syncing run <strong><a href='https://wandb.ai/atarsander-warsaw-university-of-technology/LLM_lab1/runs/ftpwj9s1' target=\"_blank\">TFIDF:{'max_features': 60000, 'min_df': 2, 'max_df': 0.95, 'ngram_range': (1, 1)}|SVD:512</a></strong> to <a href='https://wandb.ai/atarsander-warsaw-university-of-technology/LLM_lab1' target=\"_blank\">Weights & Biases</a> (<a href='https://wandb.me/developer-guide' target=\"_blank\">docs</a>)<br>"
            ],
            "text/plain": [
              "<IPython.core.display.HTML object>"
            ]
          },
          "metadata": {},
          "output_type": "display_data"
        },
        {
          "data": {
            "text/html": [
              " View project at <a href='https://wandb.ai/atarsander-warsaw-university-of-technology/LLM_lab1' target=\"_blank\">https://wandb.ai/atarsander-warsaw-university-of-technology/LLM_lab1</a>"
            ],
            "text/plain": [
              "<IPython.core.display.HTML object>"
            ]
          },
          "metadata": {},
          "output_type": "display_data"
        },
        {
          "data": {
            "text/html": [
              " View run at <a href='https://wandb.ai/atarsander-warsaw-university-of-technology/LLM_lab1/runs/ftpwj9s1' target=\"_blank\">https://wandb.ai/atarsander-warsaw-university-of-technology/LLM_lab1/runs/ftpwj9s1</a>"
            ],
            "text/plain": [
              "<IPython.core.display.HTML object>"
            ]
          },
          "metadata": {},
          "output_type": "display_data"
        },
        {
          "data": {
            "text/html": [],
            "text/plain": [
              "<IPython.core.display.HTML object>"
            ]
          },
          "metadata": {},
          "output_type": "display_data"
        },
        {
          "data": {
            "text/html": [
              "<br>    <style><br>        .wandb-row {<br>            display: flex;<br>            flex-direction: row;<br>            flex-wrap: wrap;<br>            justify-content: flex-start;<br>            width: 100%;<br>        }<br>        .wandb-col {<br>            display: flex;<br>            flex-direction: column;<br>            flex-basis: 100%;<br>            flex: 1;<br>            padding: 10px;<br>        }<br>    </style><br><div class=\"wandb-row\"><div class=\"wandb-col\"><h3>Run history:</h3><br/><table class=\"wandb\"><tr><td>epoch</td><td>▁▁▁▁▂▂▂▂▂▂▃▃▃▃▃▄▄▄▄▄▅▅▅▅▅▅▆▆▆▆▇▇▇▇▇▇▇███</td></tr><tr><td>train/loss</td><td>█▃▃▃▃▃▃▃▂▂▂▂▂▂▂▂▂▂▂▁▁▁▁▁▁</td></tr><tr><td>val/accuracy</td><td>▁▃▄▅▅▅▆▅▅▆▆▆▆▇▆▇▇▇██▇█▇█▇</td></tr><tr><td>val/f1_score</td><td>▁▅▅▅▅▆▆▆▆▆▆▆▅▇▆▇▇▇██▇█▇▇▇</td></tr><tr><td>val/precision</td><td>▁▅▅▅▅▆▆▆▅▆▆▆▅▇▆▇▇▇█▇▇█▆▇▇</td></tr><tr><td>val/recall</td><td>▁▃▄▅▅▅▅▆▆▆▆▆▆▇▆▇▇▇██▇█▇█▇</td></tr></table><br/></div><div class=\"wandb-col\"><h3>Run summary:</h3><br/><table class=\"wandb\"><tr><td>epoch</td><td>24</td></tr><tr><td>train/loss</td><td>0.87956</td></tr><tr><td>val/accuracy</td><td>0.58227</td></tr><tr><td>val/f1_score</td><td>0.57396</td></tr><tr><td>val/precision</td><td>0.57247</td></tr><tr><td>val/recall</td><td>0.57688</td></tr></table><br/></div></div>"
            ],
            "text/plain": [
              "<IPython.core.display.HTML object>"
            ]
          },
          "metadata": {},
          "output_type": "display_data"
        },
        {
          "data": {
            "text/html": [
              " View run <strong style=\"color:#cdcd00\">TFIDF:{'max_features': 60000, 'min_df': 2, 'max_df': 0.95, 'ngram_range': (1, 1)}|SVD:512</strong> at: <a href='https://wandb.ai/atarsander-warsaw-university-of-technology/LLM_lab1/runs/ftpwj9s1' target=\"_blank\">https://wandb.ai/atarsander-warsaw-university-of-technology/LLM_lab1/runs/ftpwj9s1</a><br> View project at: <a href='https://wandb.ai/atarsander-warsaw-university-of-technology/LLM_lab1' target=\"_blank\">https://wandb.ai/atarsander-warsaw-university-of-technology/LLM_lab1</a><br>Synced 5 W&B file(s), 25 media file(s), 50 artifact file(s) and 0 other file(s)"
            ],
            "text/plain": [
              "<IPython.core.display.HTML object>"
            ]
          },
          "metadata": {},
          "output_type": "display_data"
        },
        {
          "data": {
            "text/html": [
              "Find logs at: <code>./wandb/run-20251028_134229-ftpwj9s1/logs</code>"
            ],
            "text/plain": [
              "<IPython.core.display.HTML object>"
            ]
          },
          "metadata": {},
          "output_type": "display_data"
        },
        {
          "name": "stdout",
          "output_type": "stream",
          "text": [
            "[Search] TFIDF:{'max_features': None, 'min_df': 5, 'max_df': 0.9, 'ngram_range': (1, 2)}|SVD:128\n"
          ]
        },
        {
          "data": {
            "text/html": [],
            "text/plain": [
              "<IPython.core.display.HTML object>"
            ]
          },
          "metadata": {},
          "output_type": "display_data"
        },
        {
          "data": {
            "text/html": [
              "Tracking run with wandb version 0.22.2"
            ],
            "text/plain": [
              "<IPython.core.display.HTML object>"
            ]
          },
          "metadata": {},
          "output_type": "display_data"
        },
        {
          "data": {
            "text/html": [
              "Run data is saved locally in <code>/home/atarsander/University/LLM/lab1/wandb/run-20251028_134403-5ytvvgvg</code>"
            ],
            "text/plain": [
              "<IPython.core.display.HTML object>"
            ]
          },
          "metadata": {},
          "output_type": "display_data"
        },
        {
          "data": {
            "text/html": [
              "Syncing run <strong><a href='https://wandb.ai/atarsander-warsaw-university-of-technology/LLM_lab1/runs/5ytvvgvg' target=\"_blank\">TFIDF:{'max_features': None, 'min_df': 5, 'max_df': 0.9, 'ngram_range': (1, 2)}|SVD:128</a></strong> to <a href='https://wandb.ai/atarsander-warsaw-university-of-technology/LLM_lab1' target=\"_blank\">Weights & Biases</a> (<a href='https://wandb.me/developer-guide' target=\"_blank\">docs</a>)<br>"
            ],
            "text/plain": [
              "<IPython.core.display.HTML object>"
            ]
          },
          "metadata": {},
          "output_type": "display_data"
        },
        {
          "data": {
            "text/html": [
              " View project at <a href='https://wandb.ai/atarsander-warsaw-university-of-technology/LLM_lab1' target=\"_blank\">https://wandb.ai/atarsander-warsaw-university-of-technology/LLM_lab1</a>"
            ],
            "text/plain": [
              "<IPython.core.display.HTML object>"
            ]
          },
          "metadata": {},
          "output_type": "display_data"
        },
        {
          "data": {
            "text/html": [
              " View run at <a href='https://wandb.ai/atarsander-warsaw-university-of-technology/LLM_lab1/runs/5ytvvgvg' target=\"_blank\">https://wandb.ai/atarsander-warsaw-university-of-technology/LLM_lab1/runs/5ytvvgvg</a>"
            ],
            "text/plain": [
              "<IPython.core.display.HTML object>"
            ]
          },
          "metadata": {},
          "output_type": "display_data"
        },
        {
          "data": {
            "text/html": [],
            "text/plain": [
              "<IPython.core.display.HTML object>"
            ]
          },
          "metadata": {},
          "output_type": "display_data"
        },
        {
          "data": {
            "text/html": [
              "<br>    <style><br>        .wandb-row {<br>            display: flex;<br>            flex-direction: row;<br>            flex-wrap: wrap;<br>            justify-content: flex-start;<br>            width: 100%;<br>        }<br>        .wandb-col {<br>            display: flex;<br>            flex-direction: column;<br>            flex-basis: 100%;<br>            flex: 1;<br>            padding: 10px;<br>        }<br>    </style><br><div class=\"wandb-row\"><div class=\"wandb-col\"><h3>Run history:</h3><br/><table class=\"wandb\"><tr><td>epoch</td><td>▁▁▁▂▂▂▂▂▂▂▃▃▃▃▃▄▄▄▄▄▅▅▅▅▅▆▆▆▆▆▇▇▇▇▇▇▇███</td></tr><tr><td>train/loss</td><td>█▃▂▂▂▂▂▂▂▂▂▁▁▁▁▁▁▁▁▁▁▁▁▁▁</td></tr><tr><td>val/accuracy</td><td>▁▅▅▆▆▆▆▇▇▆▇▇▇▇▇▇▇▇▇▇▇█▇██</td></tr><tr><td>val/f1_score</td><td>▁▅▆▆▆▆▆▇▇▇▇▇▇▇▇▇▇▇▇█▇████</td></tr><tr><td>val/precision</td><td>▁▅▅▆▆▆▆▇▇▇▇▇▇▇▇▇▇▇▇█▇████</td></tr><tr><td>val/recall</td><td>▁▅▆▆▆▆▆▇▇▇▇▇▇▇▇▇▇▇▇█▇████</td></tr></table><br/></div><div class=\"wandb-col\"><h3>Run summary:</h3><br/><table class=\"wandb\"><tr><td>epoch</td><td>24</td></tr><tr><td>train/loss</td><td>1.00175</td></tr><tr><td>val/accuracy</td><td>0.56713</td></tr><tr><td>val/f1_score</td><td>0.55845</td></tr><tr><td>val/precision</td><td>0.55745</td></tr><tr><td>val/recall</td><td>0.56101</td></tr></table><br/></div></div>"
            ],
            "text/plain": [
              "<IPython.core.display.HTML object>"
            ]
          },
          "metadata": {},
          "output_type": "display_data"
        },
        {
          "data": {
            "text/html": [
              " View run <strong style=\"color:#cdcd00\">TFIDF:{'max_features': None, 'min_df': 5, 'max_df': 0.9, 'ngram_range': (1, 2)}|SVD:128</strong> at: <a href='https://wandb.ai/atarsander-warsaw-university-of-technology/LLM_lab1/runs/5ytvvgvg' target=\"_blank\">https://wandb.ai/atarsander-warsaw-university-of-technology/LLM_lab1/runs/5ytvvgvg</a><br> View project at: <a href='https://wandb.ai/atarsander-warsaw-university-of-technology/LLM_lab1' target=\"_blank\">https://wandb.ai/atarsander-warsaw-university-of-technology/LLM_lab1</a><br>Synced 5 W&B file(s), 25 media file(s), 50 artifact file(s) and 0 other file(s)"
            ],
            "text/plain": [
              "<IPython.core.display.HTML object>"
            ]
          },
          "metadata": {},
          "output_type": "display_data"
        },
        {
          "data": {
            "text/html": [
              "Find logs at: <code>./wandb/run-20251028_134403-5ytvvgvg/logs</code>"
            ],
            "text/plain": [
              "<IPython.core.display.HTML object>"
            ]
          },
          "metadata": {},
          "output_type": "display_data"
        },
        {
          "name": "stdout",
          "output_type": "stream",
          "text": [
            "[Search] TFIDF:{'max_features': None, 'min_df': 5, 'max_df': 0.9, 'ngram_range': (1, 2)}|SVD:300\n"
          ]
        },
        {
          "data": {
            "text/html": [],
            "text/plain": [
              "<IPython.core.display.HTML object>"
            ]
          },
          "metadata": {},
          "output_type": "display_data"
        },
        {
          "data": {
            "text/html": [
              "Tracking run with wandb version 0.22.2"
            ],
            "text/plain": [
              "<IPython.core.display.HTML object>"
            ]
          },
          "metadata": {},
          "output_type": "display_data"
        },
        {
          "data": {
            "text/html": [
              "Run data is saved locally in <code>/home/atarsander/University/LLM/lab1/wandb/run-20251028_134552-2danyoxd</code>"
            ],
            "text/plain": [
              "<IPython.core.display.HTML object>"
            ]
          },
          "metadata": {},
          "output_type": "display_data"
        },
        {
          "data": {
            "text/html": [
              "Syncing run <strong><a href='https://wandb.ai/atarsander-warsaw-university-of-technology/LLM_lab1/runs/2danyoxd' target=\"_blank\">TFIDF:{'max_features': None, 'min_df': 5, 'max_df': 0.9, 'ngram_range': (1, 2)}|SVD:300</a></strong> to <a href='https://wandb.ai/atarsander-warsaw-university-of-technology/LLM_lab1' target=\"_blank\">Weights & Biases</a> (<a href='https://wandb.me/developer-guide' target=\"_blank\">docs</a>)<br>"
            ],
            "text/plain": [
              "<IPython.core.display.HTML object>"
            ]
          },
          "metadata": {},
          "output_type": "display_data"
        },
        {
          "data": {
            "text/html": [
              " View project at <a href='https://wandb.ai/atarsander-warsaw-university-of-technology/LLM_lab1' target=\"_blank\">https://wandb.ai/atarsander-warsaw-university-of-technology/LLM_lab1</a>"
            ],
            "text/plain": [
              "<IPython.core.display.HTML object>"
            ]
          },
          "metadata": {},
          "output_type": "display_data"
        },
        {
          "data": {
            "text/html": [
              " View run at <a href='https://wandb.ai/atarsander-warsaw-university-of-technology/LLM_lab1/runs/2danyoxd' target=\"_blank\">https://wandb.ai/atarsander-warsaw-university-of-technology/LLM_lab1/runs/2danyoxd</a>"
            ],
            "text/plain": [
              "<IPython.core.display.HTML object>"
            ]
          },
          "metadata": {},
          "output_type": "display_data"
        },
        {
          "data": {
            "text/html": [],
            "text/plain": [
              "<IPython.core.display.HTML object>"
            ]
          },
          "metadata": {},
          "output_type": "display_data"
        },
        {
          "data": {
            "text/html": [
              "<br>    <style><br>        .wandb-row {<br>            display: flex;<br>            flex-direction: row;<br>            flex-wrap: wrap;<br>            justify-content: flex-start;<br>            width: 100%;<br>        }<br>        .wandb-col {<br>            display: flex;<br>            flex-direction: column;<br>            flex-basis: 100%;<br>            flex: 1;<br>            padding: 10px;<br>        }<br>    </style><br><div class=\"wandb-row\"><div class=\"wandb-col\"><h3>Run history:</h3><br/><table class=\"wandb\"><tr><td>epoch</td><td>▁▁▁▁▂▂▂▂▂▂▃▃▃▃▃▄▄▄▄▄▅▅▅▅▅▆▆▆▆▆▇▇▇▇▇▇▇███</td></tr><tr><td>train/loss</td><td>█▃▂▂▂▂▂▂▂▂▂▂▂▂▂▁▁▁▁▁▁▁▁▁▁</td></tr><tr><td>val/accuracy</td><td>▁▆▇▇▇▇▇▇▇▇███████████████</td></tr><tr><td>val/f1_score</td><td>▁▆▆▇▇▇▇▇▇▇███████████████</td></tr><tr><td>val/precision</td><td>▁▆▆▇▇▇▇▇▇▇█▇▇▇█▇██▇██████</td></tr><tr><td>val/recall</td><td>▁▆▇▇▇▇▇▇▇▇███████████████</td></tr></table><br/></div><div class=\"wandb-col\"><h3>Run summary:</h3><br/><table class=\"wandb\"><tr><td>epoch</td><td>24</td></tr><tr><td>train/loss</td><td>0.92253</td></tr><tr><td>val/accuracy</td><td>0.59013</td></tr><tr><td>val/f1_score</td><td>0.58314</td></tr><tr><td>val/precision</td><td>0.58297</td></tr><tr><td>val/recall</td><td>0.58417</td></tr></table><br/></div></div>"
            ],
            "text/plain": [
              "<IPython.core.display.HTML object>"
            ]
          },
          "metadata": {},
          "output_type": "display_data"
        },
        {
          "data": {
            "text/html": [
              " View run <strong style=\"color:#cdcd00\">TFIDF:{'max_features': None, 'min_df': 5, 'max_df': 0.9, 'ngram_range': (1, 2)}|SVD:300</strong> at: <a href='https://wandb.ai/atarsander-warsaw-university-of-technology/LLM_lab1/runs/2danyoxd' target=\"_blank\">https://wandb.ai/atarsander-warsaw-university-of-technology/LLM_lab1/runs/2danyoxd</a><br> View project at: <a href='https://wandb.ai/atarsander-warsaw-university-of-technology/LLM_lab1' target=\"_blank\">https://wandb.ai/atarsander-warsaw-university-of-technology/LLM_lab1</a><br>Synced 5 W&B file(s), 25 media file(s), 50 artifact file(s) and 0 other file(s)"
            ],
            "text/plain": [
              "<IPython.core.display.HTML object>"
            ]
          },
          "metadata": {},
          "output_type": "display_data"
        },
        {
          "data": {
            "text/html": [
              "Find logs at: <code>./wandb/run-20251028_134552-2danyoxd/logs</code>"
            ],
            "text/plain": [
              "<IPython.core.display.HTML object>"
            ]
          },
          "metadata": {},
          "output_type": "display_data"
        },
        {
          "name": "stdout",
          "output_type": "stream",
          "text": [
            "[Search] TFIDF:{'max_features': None, 'min_df': 5, 'max_df': 0.9, 'ngram_range': (1, 2)}|SVD:512\n"
          ]
        },
        {
          "data": {
            "text/html": [],
            "text/plain": [
              "<IPython.core.display.HTML object>"
            ]
          },
          "metadata": {},
          "output_type": "display_data"
        },
        {
          "data": {
            "text/html": [
              "Tracking run with wandb version 0.22.2"
            ],
            "text/plain": [
              "<IPython.core.display.HTML object>"
            ]
          },
          "metadata": {},
          "output_type": "display_data"
        },
        {
          "data": {
            "text/html": [
              "Run data is saved locally in <code>/home/atarsander/University/LLM/lab1/wandb/run-20251028_134809-ypj3xu63</code>"
            ],
            "text/plain": [
              "<IPython.core.display.HTML object>"
            ]
          },
          "metadata": {},
          "output_type": "display_data"
        },
        {
          "data": {
            "text/html": [
              "Syncing run <strong><a href='https://wandb.ai/atarsander-warsaw-university-of-technology/LLM_lab1/runs/ypj3xu63' target=\"_blank\">TFIDF:{'max_features': None, 'min_df': 5, 'max_df': 0.9, 'ngram_range': (1, 2)}|SVD:512</a></strong> to <a href='https://wandb.ai/atarsander-warsaw-university-of-technology/LLM_lab1' target=\"_blank\">Weights & Biases</a> (<a href='https://wandb.me/developer-guide' target=\"_blank\">docs</a>)<br>"
            ],
            "text/plain": [
              "<IPython.core.display.HTML object>"
            ]
          },
          "metadata": {},
          "output_type": "display_data"
        },
        {
          "data": {
            "text/html": [
              " View project at <a href='https://wandb.ai/atarsander-warsaw-university-of-technology/LLM_lab1' target=\"_blank\">https://wandb.ai/atarsander-warsaw-university-of-technology/LLM_lab1</a>"
            ],
            "text/plain": [
              "<IPython.core.display.HTML object>"
            ]
          },
          "metadata": {},
          "output_type": "display_data"
        },
        {
          "data": {
            "text/html": [
              " View run at <a href='https://wandb.ai/atarsander-warsaw-university-of-technology/LLM_lab1/runs/ypj3xu63' target=\"_blank\">https://wandb.ai/atarsander-warsaw-university-of-technology/LLM_lab1/runs/ypj3xu63</a>"
            ],
            "text/plain": [
              "<IPython.core.display.HTML object>"
            ]
          },
          "metadata": {},
          "output_type": "display_data"
        },
        {
          "data": {
            "text/html": [],
            "text/plain": [
              "<IPython.core.display.HTML object>"
            ]
          },
          "metadata": {},
          "output_type": "display_data"
        },
        {
          "data": {
            "text/html": [
              "<br>    <style><br>        .wandb-row {<br>            display: flex;<br>            flex-direction: row;<br>            flex-wrap: wrap;<br>            justify-content: flex-start;<br>            width: 100%;<br>        }<br>        .wandb-col {<br>            display: flex;<br>            flex-direction: column;<br>            flex-basis: 100%;<br>            flex: 1;<br>            padding: 10px;<br>        }<br>    </style><br><div class=\"wandb-row\"><div class=\"wandb-col\"><h3>Run history:</h3><br/><table class=\"wandb\"><tr><td>epoch</td><td>▁▁▁▂▂▂▂▂▂▂▃▃▃▃▃▄▄▄▄▄▅▅▅▅▅▅▆▆▆▆▆▇▇▇▇▇▇▇██</td></tr><tr><td>train/loss</td><td>█▃▃▃▂▂▂▂▂▂▂▂▂▂▂▂▂▂▁▁▁▁▁▁▁</td></tr><tr><td>val/accuracy</td><td>▁▆▆▇▇▇▇▇█▇██▇█▇██████████</td></tr><tr><td>val/f1_score</td><td>▁▆▆▇▇▇█▇▇██▇██▇██████████</td></tr><tr><td>val/precision</td><td>▁▆▆▆▇▇██▇▇▇▇▇█▇███████▇██</td></tr><tr><td>val/recall</td><td>▁▆▆▇▇▇▇▇█▇████▇██████████</td></tr></table><br/></div><div class=\"wandb-col\"><h3>Run summary:</h3><br/><table class=\"wandb\"><tr><td>epoch</td><td>24</td></tr><tr><td>train/loss</td><td>0.86732</td></tr><tr><td>val/accuracy</td><td>0.59627</td></tr><tr><td>val/f1_score</td><td>0.58897</td></tr><tr><td>val/precision</td><td>0.58788</td></tr><tr><td>val/recall</td><td>0.59123</td></tr></table><br/></div></div>"
            ],
            "text/plain": [
              "<IPython.core.display.HTML object>"
            ]
          },
          "metadata": {},
          "output_type": "display_data"
        },
        {
          "data": {
            "text/html": [
              " View run <strong style=\"color:#cdcd00\">TFIDF:{'max_features': None, 'min_df': 5, 'max_df': 0.9, 'ngram_range': (1, 2)}|SVD:512</strong> at: <a href='https://wandb.ai/atarsander-warsaw-university-of-technology/LLM_lab1/runs/ypj3xu63' target=\"_blank\">https://wandb.ai/atarsander-warsaw-university-of-technology/LLM_lab1/runs/ypj3xu63</a><br> View project at: <a href='https://wandb.ai/atarsander-warsaw-university-of-technology/LLM_lab1' target=\"_blank\">https://wandb.ai/atarsander-warsaw-university-of-technology/LLM_lab1</a><br>Synced 5 W&B file(s), 25 media file(s), 50 artifact file(s) and 0 other file(s)"
            ],
            "text/plain": [
              "<IPython.core.display.HTML object>"
            ]
          },
          "metadata": {},
          "output_type": "display_data"
        },
        {
          "data": {
            "text/html": [
              "Find logs at: <code>./wandb/run-20251028_134809-ypj3xu63/logs</code>"
            ],
            "text/plain": [
              "<IPython.core.display.HTML object>"
            ]
          },
          "metadata": {},
          "output_type": "display_data"
        }
      ],
      "source": [
        "best_arch = [\n",
        "    {\"linear\": (INPUT_SIZE, 128), \"relu\": True},\n",
        "    {\"dropout\": 0.3, \"linear\": (128, 64), \"relu\": True},\n",
        "    {\"dropout\": 0.3, \"linear\": (64, 5)},\n",
        "]\n",
        "results, best = tune_text_pipeline_for_architecture(\n",
        "    base_arch=best_arch,\n",
        "    tfidf_grid=tfidf_grid,\n",
        "    svd_components_grid=svd_components_grid,\n",
        "    training_setup=training_setup,\n",
        "    batch_size=BATCH_SIZE,\n",
        "    num_workers=NUM_WORKERS,\n",
        "    device=DEVICE,\n",
        "    best_metric=\"f1_score\",\n",
        ")"
      ]
    },
    {
      "cell_type": "code",
      "execution_count": 29,
      "metadata": {},
      "outputs": [
        {
          "data": {
            "text/html": [
              "<div>\n",
              "<style scoped>\n",
              "    .dataframe tbody tr th:only-of-type {\n",
              "        vertical-align: middle;\n",
              "    }\n",
              "\n",
              "    .dataframe tbody tr th {\n",
              "        vertical-align: top;\n",
              "    }\n",
              "\n",
              "    .dataframe thead th {\n",
              "        text-align: right;\n",
              "    }\n",
              "</style>\n",
              "<table border=\"1\" class=\"dataframe\">\n",
              "  <thead>\n",
              "    <tr style=\"text-align: right;\">\n",
              "      <th></th>\n",
              "      <th>TFIDF:{'max_features': None, 'min_df': 5, 'max_df': 0.9, 'ngram_range': (1, 2)}|SVD:512</th>\n",
              "    </tr>\n",
              "  </thead>\n",
              "  <tbody>\n",
              "    <tr>\n",
              "      <th>accuracy</th>\n",
              "      <td>0.596267</td>\n",
              "    </tr>\n",
              "    <tr>\n",
              "      <th>precision_macro</th>\n",
              "      <td>0.587884</td>\n",
              "    </tr>\n",
              "    <tr>\n",
              "      <th>recall_macro</th>\n",
              "      <td>0.591234</td>\n",
              "    </tr>\n",
              "    <tr>\n",
              "      <th>confusion_matrix</th>\n",
              "      <td>[[2731, 629, 63, 17, 47], [749, 1557, 526, 95,...</td>\n",
              "    </tr>\n",
              "    <tr>\n",
              "      <th>f1_score</th>\n",
              "      <td>0.588969</td>\n",
              "    </tr>\n",
              "    <tr>\n",
              "      <th>y_true</th>\n",
              "      <td>[0, 4, 1, 4, 4, 0, 1, 2, 4, 2, 1, 1, 1, 2, 4, ...</td>\n",
              "    </tr>\n",
              "    <tr>\n",
              "      <th>y_pred</th>\n",
              "      <td>[1, 4, 2, 0, 4, 0, 2, 1, 4, 2, 1, 1, 1, 4, 3, ...</td>\n",
              "    </tr>\n",
              "  </tbody>\n",
              "</table>\n",
              "</div>"
            ],
            "text/plain": [
              "                 TFIDF:{'max_features': None, 'min_df': 5, 'max_df': 0.9, 'ngram_range': (1, 2)}|SVD:512\n",
              "accuracy                                                   0.596267                                     \n",
              "precision_macro                                            0.587884                                     \n",
              "recall_macro                                               0.591234                                     \n",
              "confusion_matrix  [[2731, 629, 63, 17, 47], [749, 1557, 526, 95,...                                     \n",
              "f1_score                                                   0.588969                                     \n",
              "y_true            [0, 4, 1, 4, 4, 0, 1, 2, 4, 2, 1, 1, 1, 2, 4, ...                                     \n",
              "y_pred            [1, 4, 2, 0, 4, 0, 2, 1, 4, 2, 1, 1, 1, 4, 3, ...                                     "
            ]
          },
          "execution_count": 29,
          "metadata": {},
          "output_type": "execute_result"
        }
      ],
      "source": [
        "df = pd.DataFrame(best)\n",
        "df"
      ]
    },
    {
      "cell_type": "markdown",
      "metadata": {},
      "source": [
        "Najlepszy f1_score został osiągnięty dla TF-IDF z parametrami:\n",
        "- max_features = None\n",
        "- min_df = 5\n",
        "- max_df = 0.9\n",
        "- ngram_range = (1,2)\n",
        "- SVD n_comp = 512"
      ]
    },
    {
      "cell_type": "code",
      "execution_count": 30,
      "metadata": {},
      "outputs": [],
      "source": [
        "def train_best_model(\n",
        "    best_arch,\n",
        "    tfidf_params,\n",
        "    n_comp,\n",
        "    training_setup,\n",
        "    batch_size,\n",
        "    num_workers,\n",
        "    device,\n",
        "    project_name=\"LLM_lab1\",\n",
        "    group_name=\"final_model\",\n",
        "):\n",
        "    vectorizer, svd, loaders = make_loaders_from_text(\n",
        "        vectorizer_params=tfidf_params,\n",
        "        svd_components=n_comp,\n",
        "        batch_size=batch_size,\n",
        "        num_workers=num_workers,\n",
        "        pin_memory=True,\n",
        "    )\n",
        "    tr_loader, va_loader, te_loader = loaders\n",
        "    model = MLP(best_arch).to(device)\n",
        "    config = dict(\n",
        "        epochs=training_setup[\"epochs\"],\n",
        "        optim_type=training_setup[\"optim_type\"],\n",
        "        optim_params=training_setup[\"optim_params\"],\n",
        "        criterion=str(training_setup[\"criterion\"]),\n",
        "        batch_size=getattr(tr_loader, \"batch_size\", None),\n",
        "        device=str(device),\n",
        "        tfidf_params=tfidf_params,\n",
        "        svd_components=n_comp,\n",
        "    )\n",
        "    run_name = f\"Final model run\"\n",
        "    _, run = train(\n",
        "        tr_loader,\n",
        "        va_loader,\n",
        "        model,\n",
        "        training_setup[\"epochs\"],\n",
        "        training_setup[\"optim_type\"],\n",
        "        training_setup[\"optim_params\"],\n",
        "        training_setup[\"criterion\"],\n",
        "        device,\n",
        "        project_name,\n",
        "        group_name,\n",
        "        run_name,\n",
        "        config,\n",
        "    )\n",
        "\n",
        "    test_metrics = evaluate(model, te_loader, device)\n",
        "\n",
        "    result = {\n",
        "            \"Best_model\" : test_metrics\n",
        "           \n",
        "        }\n",
        "\n",
        "    return result, model"
      ]
    },
    {
      "cell_type": "code",
      "execution_count": 31,
      "metadata": {},
      "outputs": [
        {
          "data": {
            "text/html": [],
            "text/plain": [
              "<IPython.core.display.HTML object>"
            ]
          },
          "metadata": {},
          "output_type": "display_data"
        },
        {
          "data": {
            "text/html": [
              "Tracking run with wandb version 0.22.2"
            ],
            "text/plain": [
              "<IPython.core.display.HTML object>"
            ]
          },
          "metadata": {},
          "output_type": "display_data"
        },
        {
          "data": {
            "text/html": [
              "Run data is saved locally in <code>/home/atarsander/University/LLM/lab1/wandb/run-20251028_135137-vf515cgi</code>"
            ],
            "text/plain": [
              "<IPython.core.display.HTML object>"
            ]
          },
          "metadata": {},
          "output_type": "display_data"
        },
        {
          "data": {
            "text/html": [
              "Syncing run <strong><a href='https://wandb.ai/atarsander-warsaw-university-of-technology/LLM_lab1/runs/vf515cgi' target=\"_blank\">Final model run</a></strong> to <a href='https://wandb.ai/atarsander-warsaw-university-of-technology/LLM_lab1' target=\"_blank\">Weights & Biases</a> (<a href='https://wandb.me/developer-guide' target=\"_blank\">docs</a>)<br>"
            ],
            "text/plain": [
              "<IPython.core.display.HTML object>"
            ]
          },
          "metadata": {},
          "output_type": "display_data"
        },
        {
          "data": {
            "text/html": [
              " View project at <a href='https://wandb.ai/atarsander-warsaw-university-of-technology/LLM_lab1' target=\"_blank\">https://wandb.ai/atarsander-warsaw-university-of-technology/LLM_lab1</a>"
            ],
            "text/plain": [
              "<IPython.core.display.HTML object>"
            ]
          },
          "metadata": {},
          "output_type": "display_data"
        },
        {
          "data": {
            "text/html": [
              " View run at <a href='https://wandb.ai/atarsander-warsaw-university-of-technology/LLM_lab1/runs/vf515cgi' target=\"_blank\">https://wandb.ai/atarsander-warsaw-university-of-technology/LLM_lab1/runs/vf515cgi</a>"
            ],
            "text/plain": [
              "<IPython.core.display.HTML object>"
            ]
          },
          "metadata": {},
          "output_type": "display_data"
        }
      ],
      "source": [
        "best_arch = [\n",
        "        {\"linear\": (512, 128), \"relu\": True},\n",
        "        {\"linear\": (128, 64), \"relu\": True},\n",
        "        {\"linear\": (64, 5)},\n",
        "    ]\n",
        "result, model = train_best_model(\n",
        "    best_arch,\n",
        "    tfidf_params={\"max_features\": None, \"min_df\": 5, \"max_df\": 0.9, \"ngram_range\": (1,2)},\n",
        "    n_comp=512,\n",
        "    training_setup=training_setup,\n",
        "    batch_size=BATCH_SIZE,\n",
        "    num_workers=NUM_WORKERS,\n",
        "    device=DEVICE,\n",
        "    project_name=\"LLM_lab1\",\n",
        "    group_name=\"final_model\",\n",
        ")"
      ]
    },
    {
      "cell_type": "code",
      "execution_count": 47,
      "metadata": {},
      "outputs": [
        {
          "data": {
            "text/html": [],
            "text/plain": [
              "<IPython.core.display.HTML object>"
            ]
          },
          "metadata": {},
          "output_type": "display_data"
        },
        {
          "data": {
            "text/html": [
              "<br>    <style><br>        .wandb-row {<br>            display: flex;<br>            flex-direction: row;<br>            flex-wrap: wrap;<br>            justify-content: flex-start;<br>            width: 100%;<br>        }<br>        .wandb-col {<br>            display: flex;<br>            flex-direction: column;<br>            flex-basis: 100%;<br>            flex: 1;<br>            padding: 10px;<br>        }<br>    </style><br><div class=\"wandb-row\"><div class=\"wandb-col\"><h3>Run history:</h3><br/><table class=\"wandb\"><tr><td>epoch</td><td>▁▁▁▁▂▂▂▂▂▂▃▃▃▃▃▄▄▄▄▄▅▅▅▅▅▅▆▆▆▆▆▇▇▇▇▇▇███</td></tr><tr><td>train/loss</td><td>█▃▂▂▂▂▂▂▂▂▂▂▂▂▂▂▂▁▁▁▁▁▁▁▁</td></tr><tr><td>val/accuracy</td><td>▁▅▅▅▅▅▆█▆█▇███▇█▇▇█▇▇▇▆▆▆</td></tr><tr><td>val/f1_score</td><td>▁▅▃▆▄▅▆▆▃▇█▆█▆▆█▅▇▇▇▇▇▇▇▆</td></tr><tr><td>val/precision</td><td>▁▄▃▅▄▅▆▆▃▇▇▅▇▅▆▇▆█▆▆▆▇▆▇▇</td></tr><tr><td>val/recall</td><td>▁▆▅▅▅▅▆▇▅▇▇▇██▆█▅▆▇██▇▇▇▆</td></tr></table><br/></div><div class=\"wandb-col\"><h3>Run summary:</h3><br/><table class=\"wandb\"><tr><td>epoch</td><td>24</td></tr><tr><td>train/loss</td><td>0.86545</td></tr><tr><td>val/accuracy</td><td>0.59107</td></tr><tr><td>val/f1_score</td><td>0.58505</td></tr><tr><td>val/precision</td><td>0.58642</td></tr><tr><td>val/recall</td><td>0.58481</td></tr></table><br/></div></div>"
            ],
            "text/plain": [
              "<IPython.core.display.HTML object>"
            ]
          },
          "metadata": {},
          "output_type": "display_data"
        },
        {
          "data": {
            "text/html": [
              " View run <strong style=\"color:#cdcd00\">Final model run</strong> at: <a href='https://wandb.ai/atarsander-warsaw-university-of-technology/LLM_lab1/runs/vf515cgi' target=\"_blank\">https://wandb.ai/atarsander-warsaw-university-of-technology/LLM_lab1/runs/vf515cgi</a><br> View project at: <a href='https://wandb.ai/atarsander-warsaw-university-of-technology/LLM_lab1' target=\"_blank\">https://wandb.ai/atarsander-warsaw-university-of-technology/LLM_lab1</a><br>Synced 5 W&B file(s), 25 media file(s), 50 artifact file(s) and 0 other file(s)"
            ],
            "text/plain": [
              "<IPython.core.display.HTML object>"
            ]
          },
          "metadata": {},
          "output_type": "display_data"
        },
        {
          "data": {
            "text/html": [
              "Find logs at: <code>./wandb/run-20251028_135137-vf515cgi/logs</code>"
            ],
            "text/plain": [
              "<IPython.core.display.HTML object>"
            ]
          },
          "metadata": {},
          "output_type": "display_data"
        }
      ],
      "source": [
        "wandb.finish()"
      ]
    },
    {
      "cell_type": "code",
      "execution_count": 32,
      "metadata": {},
      "outputs": [
        {
          "data": {
            "text/html": [
              "<div>\n",
              "<style scoped>\n",
              "    .dataframe tbody tr th:only-of-type {\n",
              "        vertical-align: middle;\n",
              "    }\n",
              "\n",
              "    .dataframe tbody tr th {\n",
              "        vertical-align: top;\n",
              "    }\n",
              "\n",
              "    .dataframe thead th {\n",
              "        text-align: right;\n",
              "    }\n",
              "</style>\n",
              "<table border=\"1\" class=\"dataframe\">\n",
              "  <thead>\n",
              "    <tr style=\"text-align: right;\">\n",
              "      <th></th>\n",
              "      <th>Best_model</th>\n",
              "    </tr>\n",
              "  </thead>\n",
              "  <tbody>\n",
              "    <tr>\n",
              "      <th>accuracy</th>\n",
              "      <td>0.57205</td>\n",
              "    </tr>\n",
              "    <tr>\n",
              "      <th>precision_macro</th>\n",
              "      <td>0.574797</td>\n",
              "    </tr>\n",
              "    <tr>\n",
              "      <th>recall_macro</th>\n",
              "      <td>0.573012</td>\n",
              "    </tr>\n",
              "    <tr>\n",
              "      <th>confusion_matrix</th>\n",
              "      <td>[[3092, 796, 98, 35, 64], [1052, 2089, 816, 14...</td>\n",
              "    </tr>\n",
              "    <tr>\n",
              "      <th>f1_score</th>\n",
              "      <td>0.572952</td>\n",
              "    </tr>\n",
              "    <tr>\n",
              "      <th>y_true</th>\n",
              "      <td>[0, 0, 0, 0, 0, 2, 1, 3, 3, 2, 1, 3, 0, 1, 3, ...</td>\n",
              "    </tr>\n",
              "    <tr>\n",
              "      <th>y_pred</th>\n",
              "      <td>[0, 0, 0, 0, 0, 2, 0, 3, 3, 3, 2, 3, 0, 2, 3, ...</td>\n",
              "    </tr>\n",
              "  </tbody>\n",
              "</table>\n",
              "</div>"
            ],
            "text/plain": [
              "                                                         Best_model\n",
              "accuracy                                                    0.57205\n",
              "precision_macro                                            0.574797\n",
              "recall_macro                                               0.573012\n",
              "confusion_matrix  [[3092, 796, 98, 35, 64], [1052, 2089, 816, 14...\n",
              "f1_score                                                   0.572952\n",
              "y_true            [0, 0, 0, 0, 0, 2, 1, 3, 3, 2, 1, 3, 0, 1, 3, ...\n",
              "y_pred            [0, 0, 0, 0, 0, 2, 0, 3, 3, 3, 2, 3, 0, 2, 3, ..."
            ]
          },
          "execution_count": 32,
          "metadata": {},
          "output_type": "execute_result"
        }
      ],
      "source": [
        "df = pd.DataFrame(result)\n",
        "df"
      ]
    },
    {
      "cell_type": "markdown",
      "metadata": {},
      "source": [
        "Najlepszy model osiągnął na zbiorze testowym:\n",
        "- accuracy = 57.2%\n",
        "- f1_score = 57.3%"
      ]
    },
    {
      "cell_type": "markdown",
      "metadata": {},
      "source": [
        "## 1. Znalezienie najgorzej sklasyfikowanych przykładów"
      ]
    },
    {
      "cell_type": "markdown",
      "metadata": {},
      "source": [
        "Transformujemy zbiór testowy zgodnie z najlepszymi znalezionymi parametrami."
      ]
    },
    {
      "cell_type": "code",
      "execution_count": 39,
      "metadata": {},
      "outputs": [],
      "source": [
        "vectorizer = TfidfVectorizer(**{\"max_features\": None, \"min_df\": 5, \"max_df\": 0.9, \"ngram_range\": (1,2)})\n",
        "X_train_tf = vectorizer.fit_transform(dataset_train[\"text\"])\n",
        "X_test_tf  = vectorizer.transform(dataset_test[\"text\"])\n",
        "\n",
        "svd = TruncatedSVD(n_components=512)\n",
        "X_train = svd.fit(X_train_tf)\n",
        "X_test  = svd.transform(X_test_tf)\n",
        "\n",
        "y_test  = np.asarray(dataset_test[\"label\"])\n",
        "\n",
        "test_ds  = TensorDataset(torch.tensor(X_test),  torch.tensor(y_test))\n",
        "test_loader  = DataLoader(test_ds,  batch_size=BATCH_SIZE, shuffle=False, num_workers=NUM_WORKERS, pin_memory=True)"
      ]
    },
    {
      "cell_type": "markdown",
      "metadata": {},
      "source": [
        "Następnie szukamy najmniejszych logitów dla prawdziwe klasy każdego z przykładów."
      ]
    },
    {
      "cell_type": "code",
      "execution_count": 40,
      "metadata": {},
      "outputs": [],
      "source": [
        "def show_k_most_wrong(model, test_loader, true_texts, k, device):\n",
        "    model.eval()\n",
        "    all_logits, all_y = [], []\n",
        "    for X, y in test_loader:\n",
        "        X = X.to(dtype=torch.float32, device=device)\n",
        "        logits = model(X).detach().cpu()\n",
        "        all_logits.append(logits)\n",
        "        all_y.append(y)\n",
        "        \n",
        "    logits, y_true = torch.cat(all_logits, dim=0), torch.cat(all_y, dim=0)\n",
        "    true_logits = logits[torch.arange(logits.size(0)), y_true]\n",
        "\n",
        "    p_true = torch.softmax(logits, dim=1)[torch.arange(logits.size(0)), y_true]\n",
        "    y_pred = torch.argmax(logits, dim=1)\n",
        "\n",
        "    idx_sorted = torch.argsort(true_logits, dim=0, descending=False)[:k].cpu().numpy().tolist()\n",
        "\n",
        "    rows = []\n",
        "    for idx in idx_sorted:\n",
        "        rows.append({\n",
        "            \"idx\": idx,\n",
        "            \"true_label\": int(y_true[idx].item()),\n",
        "            \"pred_label\": int(y_pred[idx].item()),\n",
        "            \"true_logit\": float(true_logits[idx].item()),\n",
        "            \"pred_logit\": float(logits[idx, y_pred[idx]].item()),\n",
        "            \"p_true\": float(p_true[idx].item()),\n",
        "            \"text\": str(true_texts[idx][\"text\"])[:1200]  \n",
        "        })\n",
        "    return rows"
      ]
    },
    {
      "cell_type": "code",
      "execution_count": 41,
      "metadata": {},
      "outputs": [
        {
          "data": {
            "text/html": [
              "<div>\n",
              "<style scoped>\n",
              "    .dataframe tbody tr th:only-of-type {\n",
              "        vertical-align: middle;\n",
              "    }\n",
              "\n",
              "    .dataframe tbody tr th {\n",
              "        vertical-align: top;\n",
              "    }\n",
              "\n",
              "    .dataframe thead th {\n",
              "        text-align: right;\n",
              "    }\n",
              "</style>\n",
              "<table border=\"1\" class=\"dataframe\">\n",
              "  <thead>\n",
              "    <tr style=\"text-align: right;\">\n",
              "      <th></th>\n",
              "      <th>idx</th>\n",
              "      <th>true_label</th>\n",
              "      <th>pred_label</th>\n",
              "      <th>true_logit</th>\n",
              "      <th>pred_logit</th>\n",
              "      <th>p_true</th>\n",
              "      <th>text</th>\n",
              "    </tr>\n",
              "  </thead>\n",
              "  <tbody>\n",
              "    <tr>\n",
              "      <th>0</th>\n",
              "      <td>2806</td>\n",
              "      <td>3</td>\n",
              "      <td>0</td>\n",
              "      <td>-6.309756</td>\n",
              "      <td>5.898983</td>\n",
              "      <td>0.000005</td>\n",
              "      <td>This is the worst food I have ever had. Smelly...</td>\n",
              "    </tr>\n",
              "    <tr>\n",
              "      <th>1</th>\n",
              "      <td>8214</td>\n",
              "      <td>4</td>\n",
              "      <td>1</td>\n",
              "      <td>-5.478430</td>\n",
              "      <td>2.136673</td>\n",
              "      <td>0.000361</td>\n",
              "      <td>Started off with the skillet cornbread and the...</td>\n",
              "    </tr>\n",
              "    <tr>\n",
              "      <th>2</th>\n",
              "      <td>4578</td>\n",
              "      <td>4</td>\n",
              "      <td>1</td>\n",
              "      <td>-5.412669</td>\n",
              "      <td>1.787483</td>\n",
              "      <td>0.000378</td>\n",
              "      <td>I wanted to take off a star for the weird bend...</td>\n",
              "    </tr>\n",
              "    <tr>\n",
              "      <th>3</th>\n",
              "      <td>10410</td>\n",
              "      <td>3</td>\n",
              "      <td>0</td>\n",
              "      <td>-5.237564</td>\n",
              "      <td>3.326813</td>\n",
              "      <td>0.000098</td>\n",
              "      <td>Yummmmmmmm  eeeeeeeee!  Taste eeeeeeee!</td>\n",
              "    </tr>\n",
              "    <tr>\n",
              "      <th>4</th>\n",
              "      <td>11362</td>\n",
              "      <td>4</td>\n",
              "      <td>1</td>\n",
              "      <td>-5.193672</td>\n",
              "      <td>2.089184</td>\n",
              "      <td>0.000488</td>\n",
              "      <td>Came here a few nights ago for some brain food...</td>\n",
              "    </tr>\n",
              "    <tr>\n",
              "      <th>5</th>\n",
              "      <td>12786</td>\n",
              "      <td>4</td>\n",
              "      <td>1</td>\n",
              "      <td>-5.157664</td>\n",
              "      <td>1.864151</td>\n",
              "      <td>0.000599</td>\n",
              "      <td>The night I went to DDS there was this awful, ...</td>\n",
              "    </tr>\n",
              "    <tr>\n",
              "      <th>6</th>\n",
              "      <td>12285</td>\n",
              "      <td>4</td>\n",
              "      <td>0</td>\n",
              "      <td>-5.104719</td>\n",
              "      <td>3.716515</td>\n",
              "      <td>0.000139</td>\n",
              "      <td>We at first had a ok experience than it went d...</td>\n",
              "    </tr>\n",
              "    <tr>\n",
              "      <th>7</th>\n",
              "      <td>4640</td>\n",
              "      <td>4</td>\n",
              "      <td>0</td>\n",
              "      <td>-4.917395</td>\n",
              "      <td>3.192785</td>\n",
              "      <td>0.000261</td>\n",
              "      <td>Nothing Short of a Miracle!! \\nI had a beautif...</td>\n",
              "    </tr>\n",
              "    <tr>\n",
              "      <th>8</th>\n",
              "      <td>15171</td>\n",
              "      <td>4</td>\n",
              "      <td>1</td>\n",
              "      <td>-4.785367</td>\n",
              "      <td>0.863193</td>\n",
              "      <td>0.001542</td>\n",
              "      <td>C-Fu, Great Wall, Golden Buddha ... blah blah ...</td>\n",
              "    </tr>\n",
              "    <tr>\n",
              "      <th>9</th>\n",
              "      <td>11305</td>\n",
              "      <td>0</td>\n",
              "      <td>4</td>\n",
              "      <td>-4.709807</td>\n",
              "      <td>5.638265</td>\n",
              "      <td>0.000031</td>\n",
              "      <td>Love love love this place!!! Everyone is amazi...</td>\n",
              "    </tr>\n",
              "    <tr>\n",
              "      <th>10</th>\n",
              "      <td>8054</td>\n",
              "      <td>4</td>\n",
              "      <td>0</td>\n",
              "      <td>-4.670842</td>\n",
              "      <td>2.440050</td>\n",
              "      <td>0.000590</td>\n",
              "      <td>I don't come to Dillard's expecting a Nordstro...</td>\n",
              "    </tr>\n",
              "    <tr>\n",
              "      <th>11</th>\n",
              "      <td>3526</td>\n",
              "      <td>3</td>\n",
              "      <td>0</td>\n",
              "      <td>-4.615459</td>\n",
              "      <td>3.900919</td>\n",
              "      <td>0.000191</td>\n",
              "      <td>Terrible pizza. As a relatively new arizona tr...</td>\n",
              "    </tr>\n",
              "    <tr>\n",
              "      <th>12</th>\n",
              "      <td>12130</td>\n",
              "      <td>4</td>\n",
              "      <td>1</td>\n",
              "      <td>-4.579255</td>\n",
              "      <td>0.989803</td>\n",
              "      <td>0.001986</td>\n",
              "      <td>Had I written this review 5 years ago while st...</td>\n",
              "    </tr>\n",
              "    <tr>\n",
              "      <th>13</th>\n",
              "      <td>18173</td>\n",
              "      <td>3</td>\n",
              "      <td>0</td>\n",
              "      <td>-4.450565</td>\n",
              "      <td>4.034515</td>\n",
              "      <td>0.000202</td>\n",
              "      <td>I was there for a business dinner and they put...</td>\n",
              "    </tr>\n",
              "    <tr>\n",
              "      <th>14</th>\n",
              "      <td>15740</td>\n",
              "      <td>4</td>\n",
              "      <td>1</td>\n",
              "      <td>-4.444386</td>\n",
              "      <td>1.654417</td>\n",
              "      <td>0.001578</td>\n",
              "      <td>We returned to The Capital Grille, this time w...</td>\n",
              "    </tr>\n",
              "    <tr>\n",
              "      <th>15</th>\n",
              "      <td>18379</td>\n",
              "      <td>0</td>\n",
              "      <td>2</td>\n",
              "      <td>-4.384699</td>\n",
              "      <td>1.906976</td>\n",
              "      <td>0.001171</td>\n",
              "      <td>I have frequently visited Twice as Nice before...</td>\n",
              "    </tr>\n",
              "    <tr>\n",
              "      <th>16</th>\n",
              "      <td>12546</td>\n",
              "      <td>4</td>\n",
              "      <td>1</td>\n",
              "      <td>-4.381545</td>\n",
              "      <td>1.404073</td>\n",
              "      <td>0.001728</td>\n",
              "      <td>WOW! that pretty much could be all that needs ...</td>\n",
              "    </tr>\n",
              "    <tr>\n",
              "      <th>17</th>\n",
              "      <td>19377</td>\n",
              "      <td>4</td>\n",
              "      <td>1</td>\n",
              "      <td>-4.374028</td>\n",
              "      <td>1.234028</td>\n",
              "      <td>0.001819</td>\n",
              "      <td>No rating (just putting that in theater 12 the...</td>\n",
              "    </tr>\n",
              "    <tr>\n",
              "      <th>18</th>\n",
              "      <td>18317</td>\n",
              "      <td>0</td>\n",
              "      <td>3</td>\n",
              "      <td>-4.337571</td>\n",
              "      <td>2.085480</td>\n",
              "      <td>0.001061</td>\n",
              "      <td>Just like the club, TAO Beach is waayyyy overr...</td>\n",
              "    </tr>\n",
              "    <tr>\n",
              "      <th>19</th>\n",
              "      <td>6910</td>\n",
              "      <td>0</td>\n",
              "      <td>2</td>\n",
              "      <td>-4.331312</td>\n",
              "      <td>2.564428</td>\n",
              "      <td>0.000739</td>\n",
              "      <td>So, I was all set to give this bar a solid fou...</td>\n",
              "    </tr>\n",
              "  </tbody>\n",
              "</table>\n",
              "</div>"
            ],
            "text/plain": [
              "      idx  true_label  pred_label  true_logit  pred_logit    p_true  \\\n",
              "0    2806           3           0   -6.309756    5.898983  0.000005   \n",
              "1    8214           4           1   -5.478430    2.136673  0.000361   \n",
              "2    4578           4           1   -5.412669    1.787483  0.000378   \n",
              "3   10410           3           0   -5.237564    3.326813  0.000098   \n",
              "4   11362           4           1   -5.193672    2.089184  0.000488   \n",
              "5   12786           4           1   -5.157664    1.864151  0.000599   \n",
              "6   12285           4           0   -5.104719    3.716515  0.000139   \n",
              "7    4640           4           0   -4.917395    3.192785  0.000261   \n",
              "8   15171           4           1   -4.785367    0.863193  0.001542   \n",
              "9   11305           0           4   -4.709807    5.638265  0.000031   \n",
              "10   8054           4           0   -4.670842    2.440050  0.000590   \n",
              "11   3526           3           0   -4.615459    3.900919  0.000191   \n",
              "12  12130           4           1   -4.579255    0.989803  0.001986   \n",
              "13  18173           3           0   -4.450565    4.034515  0.000202   \n",
              "14  15740           4           1   -4.444386    1.654417  0.001578   \n",
              "15  18379           0           2   -4.384699    1.906976  0.001171   \n",
              "16  12546           4           1   -4.381545    1.404073  0.001728   \n",
              "17  19377           4           1   -4.374028    1.234028  0.001819   \n",
              "18  18317           0           3   -4.337571    2.085480  0.001061   \n",
              "19   6910           0           2   -4.331312    2.564428  0.000739   \n",
              "\n",
              "                                                 text  \n",
              "0   This is the worst food I have ever had. Smelly...  \n",
              "1   Started off with the skillet cornbread and the...  \n",
              "2   I wanted to take off a star for the weird bend...  \n",
              "3             Yummmmmmmm  eeeeeeeee!  Taste eeeeeeee!  \n",
              "4   Came here a few nights ago for some brain food...  \n",
              "5   The night I went to DDS there was this awful, ...  \n",
              "6   We at first had a ok experience than it went d...  \n",
              "7   Nothing Short of a Miracle!! \\nI had a beautif...  \n",
              "8   C-Fu, Great Wall, Golden Buddha ... blah blah ...  \n",
              "9   Love love love this place!!! Everyone is amazi...  \n",
              "10  I don't come to Dillard's expecting a Nordstro...  \n",
              "11  Terrible pizza. As a relatively new arizona tr...  \n",
              "12  Had I written this review 5 years ago while st...  \n",
              "13  I was there for a business dinner and they put...  \n",
              "14  We returned to The Capital Grille, this time w...  \n",
              "15  I have frequently visited Twice as Nice before...  \n",
              "16  WOW! that pretty much could be all that needs ...  \n",
              "17  No rating (just putting that in theater 12 the...  \n",
              "18  Just like the club, TAO Beach is waayyyy overr...  \n",
              "19  So, I was all set to give this bar a solid fou...  "
            ]
          },
          "execution_count": 41,
          "metadata": {},
          "output_type": "execute_result"
        }
      ],
      "source": [
        "rows = show_k_most_wrong(model, test_loader, dataset_test, k=20, device=DEVICE)\n",
        "df = pd.DataFrame(rows)\n",
        "df"
      ]
    },
    {
      "cell_type": "code",
      "execution_count": 42,
      "metadata": {},
      "outputs": [
        {
          "data": {
            "text/plain": [
              "true_label\n",
              "4    12\n",
              "3     4\n",
              "0     4\n",
              "Name: count, dtype: int64"
            ]
          },
          "execution_count": 42,
          "metadata": {},
          "output_type": "execute_result"
        }
      ],
      "source": [
        "df[\"true_label\"].value_counts()"
      ]
    },
    {
      "cell_type": "code",
      "execution_count": 43,
      "metadata": {},
      "outputs": [
        {
          "data": {
            "text/plain": [
              "pred_label\n",
              "1    9\n",
              "0    7\n",
              "2    2\n",
              "4    1\n",
              "3    1\n",
              "Name: count, dtype: int64"
            ]
          },
          "execution_count": 43,
          "metadata": {},
          "output_type": "execute_result"
        }
      ],
      "source": [
        "df[\"pred_label\"].value_counts()"
      ]
    },
    {
      "cell_type": "code",
      "execution_count": 44,
      "metadata": {},
      "outputs": [
        {
          "name": "stdout",
          "output_type": "stream",
          "text": [
            "This is the worst food I have ever had. Smelly Salmon, mushy broccoli, saw dust dry burger, rock hard ribs. Even the mashed potatoes were thick and dry. I understand this place's forte' is rock memorabilia, they should at least provide palatable food, not saw dust. They would be better off serving TV dinners. Stay away from this place. if you must go, then just have some appetizers and leave.\n"
          ]
        }
      ],
      "source": [
        "print(dataset_test[\"text\"][2806])"
      ]
    },
    {
      "cell_type": "code",
      "execution_count": 45,
      "metadata": {},
      "outputs": [
        {
          "name": "stdout",
          "output_type": "stream",
          "text": [
            "Started off with the skillet cornbread and the grilled artichokes for appetizers. Both were unbelievably good. The grilled artichokes were just short of a spiritual experience! I could almost hear an angelic choir hit the high notes after my first bite. \\n\\nFor the main courses, we ordered the Kobe beef tips and the grilled salmon. The beef tips were the clear winner, tender, cooked to perfection, and with a nice wood-grilled flavor. The salmon was good, but the \\\"green rice\\\" that came along side of it was a little on the tangy side for me. The salmon had a sweet glaze over the top which was good, but I guess I was not in the mood for that flavor. \\n\\nThe bottom line is, the Yelpers were right again. This place is a winner. You won't be disappointed.\n"
          ]
        }
      ],
      "source": [
        "print(dataset_test[\"text\"][8214])"
      ]
    },
    {
      "cell_type": "code",
      "execution_count": 46,
      "metadata": {},
      "outputs": [
        {
          "name": "stdout",
          "output_type": "stream",
          "text": [
            "I wanted to take off a star for the weird bendy line that I always have to wait in when I go through the drive thru. However, the truth is that if I simply parked my car and walked my lazy a** inside, I would not have to wait.\\n\\nSpeaking of their drive thru, wow. You could be in a line all the way out to Eastern and you would be through that line in 5 minutes. They really have an operation going on there. This is what happens when you have the budget to hire sufficient amounts of employees.\\n\\nOne time this one girl was kinda mean to me...but I can't blame McDonalds.  It felt like an anger caused by something such as a breakup or a stressful issue with not paying rent, so I let it go.\\n\\nHAVE YOU HAD THEIR FRIES?!?!!?  I don't care what people say. I think are putting crack in those. Salt and crack. If one day down the line we find out that McDonalds fries were so good because they were laced with something, I won't be shocked.\n"
          ]
        }
      ],
      "source": [
        "print(dataset_test[\"text\"][4578])"
      ]
    },
    {
      "cell_type": "markdown",
      "metadata": {},
      "source": [
        "Powyżej znajdują się 3 najgorzej sklasyfikowane recenzje. Pomyłki na nich są zrozumiałe, gdyż pierwsza z opinii jest niesamowicie negatywna, przez co model daje jej 0, ale prawdziwa ocena to 3. \n",
        "W drugim przykładzie pomyłka jest bardziej ewidentna, ale możliwe, że np. słowo \"dissappointed\" zmyliło model.\n",
        "Trzeci przykład to bardzo specyficzna wypowiedź, z której ciężko wywnioskować ocenę na podstawie pojedynczych słów."
      ]
    }
  ],
  "metadata": {
    "accelerator": "GPU",
    "colab": {
      "gpuType": "T4",
      "provenance": [],
      "toc_visible": true
    },
    "kernelspec": {
      "display_name": "LLM",
      "language": "python",
      "name": "python3"
    },
    "language_info": {
      "codemirror_mode": {
        "name": "ipython",
        "version": 3
      },
      "file_extension": ".py",
      "mimetype": "text/x-python",
      "name": "python",
      "nbconvert_exporter": "python",
      "pygments_lexer": "ipython3",
      "version": "3.12.12"
    }
  },
  "nbformat": 4,
  "nbformat_minor": 0
}
